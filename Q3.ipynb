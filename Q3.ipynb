{
  "cells": [
    {
      "cell_type": "markdown",
      "metadata": {
        "id": "view-in-github",
        "colab_type": "text"
      },
      "source": [
        "<a href=\"https://colab.research.google.com/github/mahshadmoradi/Machine-Learning/blob/main/Q3.ipynb\" target=\"_parent\"><img src=\"https://colab.research.google.com/assets/colab-badge.svg\" alt=\"Open In Colab\"/></a>"
      ]
    },
    {
      "cell_type": "markdown",
      "id": "5f42a3ce",
      "metadata": {
        "id": "5f42a3ce"
      },
      "source": [
        "<h1 align=\"center\">Introduction to Machine Learning - 25737-2</h1>\n",
        "<h4 align=\"center\">Dr. R. Amiri</h4>\n",
        "<h4 align=\"center\">Sharif University of Technology, Spring 2024</h4>\n",
        "\n",
        "\n",
        "**<font color='red'>Plagiarism is strongly prohibited!</font>**\n",
        "\n",
        "\n",
        "**Student Name**: Mahshad Moradi\n",
        "\n",
        "**Student ID**: 400109373\n",
        "\n",
        "\n",
        "\n"
      ]
    },
    {
      "cell_type": "markdown",
      "id": "a01c559e",
      "metadata": {
        "id": "a01c559e"
      },
      "source": [
        "## Importing Libraries\n",
        "\n",
        "First we import libraries that we need for this assignment."
      ]
    },
    {
      "cell_type": "code",
      "execution_count": null,
      "id": "0423187e",
      "metadata": {
        "id": "0423187e"
      },
      "outputs": [],
      "source": [
        "import numpy as np\n",
        "import pandas as pd\n",
        "import matplotlib.pyplot as plt\n",
        "\n",
        "# import any other libraries needed below\n",
        "from sklearn.model_selection import train_test_split\n",
        "import matplotlib.pyplot as plt\n",
        "from sklearn.naive_bayes import GaussianNB\n",
        "from sklearn.metrics import accuracy_score\n",
        "from sklearn.discriminant_analysis import LinearDiscriminantAnalysis"
      ]
    },
    {
      "cell_type": "markdown",
      "id": "2f795731",
      "metadata": {
        "id": "2f795731"
      },
      "source": [
        "## Reading Data and Preprocessing\n",
        "\n",
        "In this section, we want to read data from a CSV file and then preprocess it to make it ready for the rest of the problem.\n",
        "\n",
        "First, we read the data in the cell below and extract an $m \\times n$ matrix, $X$, and an $m \\times 1$ vector, $Y$, from it, which represent our knowledge about the features of the data (`X1`, `X2`, `X3`) and the class (`Y`), respectively. Note that by $m$, we mean the number of data points and by $n$, we mean the number of features."
      ]
    },
    {
      "cell_type": "code",
      "execution_count": null,
      "id": "410e750d",
      "metadata": {
        "colab": {
          "base_uri": "https://localhost:8080/"
        },
        "id": "410e750d",
        "outputId": "0ed9cd94-5880-4015-cb26-78efcf266453"
      },
      "outputs": [
        {
          "output_type": "stream",
          "name": "stdout",
          "text": [
            "(10000, 3)\n",
            "(10000,)\n"
          ]
        }
      ],
      "source": [
        "X, Y = None, None\n",
        "\n",
        "### START CODE HERE ###\n",
        "\n",
        "#Read the CSV file into a DataFrame\n",
        "df = pd.read_csv('data_logistic.csv')\n",
        "\n",
        "# print(df.head)\n",
        "\n",
        "X = df.iloc[:, :-1].values  # Extract all rows, and all columns except the last one as features\n",
        "Y = df.iloc[:, -1].values   # Extract all rows for the last column as the target variable\n",
        "### END CODE HERE ###\n",
        "\n",
        "print(X.shape)\n",
        "print(Y.shape)"
      ]
    },
    {
      "cell_type": "markdown",
      "id": "866734e2",
      "metadata": {
        "id": "866734e2"
      },
      "source": [
        "Next, we should normalize our data. For normalizing a vector $\\mathbf{x}$, a very common method is to use this formula:\n",
        "\n",
        "$$\n",
        "\\mathbf{x}_{norm} = \\dfrac{\\mathbf{x} - \\overline{\\mathbf{x}}}{\\sigma_\\mathbf{x}}\n",
        "$$\n",
        "\n",
        "Here, $\\overline{x}$ and $\\sigma_\\mathbf{x}$ denote the mean and standard deviation of vector $\\mathbf{x}$, respectively. Use this formula and store the new $X$ and $Y$ vectors in the cell below.\n",
        "\n",
        "**Question**: Briefly explain why we need to normalize our data before starting the training.\n",
        "\n",
        "**Answer**:\n",
        "\n",
        "**Scale Uniformity**: Different features might be measured on vastly different scales (e.g., age in years and income in thousands of dollars). Without normalization, features on larger scales dominate those on smaller scales, potentially biasing the model.\n",
        "\n",
        "**Faster Convergence**: When using gradient descent-based optimization methods, features with similar scales tend to help the algorithm converge faster. Without normalization, the optimization path can become skewed, leading to slower convergence.\n",
        "\n",
        "**Improved Accuracy**: Algorithms that rely on distance calculations (like K-nearest neighbors and Support Vector Machines) or assume normality of the features (like Logistic Regression) can perform better when the data is normalized, leading to improved accuracy.\n",
        "\n",
        "**Prevent Distortion**: Features with larger scales can distort cost functions, making it harder to find the global minimum. Normalization helps in making the cost function more spherical, easing the optimization process.\n",
        "\n",
        "**Numerical Stability**: Some algorithms can suffer from numerical instability due to very large or very small values. Normalization helps in mitigating these issues by ensuring values lie within a similar range.\n",
        "\n",
        "**Model Evaluation**: Normalizing both features and target variables (in regression tasks) allows for a more straightforward comparison between different models and their performance metrics, as the scale of the outputs is consistent."
      ]
    },
    {
      "cell_type": "code",
      "execution_count": null,
      "id": "9e757eb0",
      "metadata": {
        "id": "9e757eb0"
      },
      "outputs": [],
      "source": [
        "### START CODE HERE ###\n",
        "\n",
        "# Normalize X\n",
        "X_mean = np.mean(X, axis=0)  # Calculate the mean of X for each feature\n",
        "X_std = np.std(X, axis=0)    # Calculate the standard deviation of X for each feature\n",
        "X_norm = (X - X_mean) / X_std  # Apply the normalization formula\n",
        "\n",
        "# Now X_norm and Y_norm contain the normalized features and target variable\n",
        "X, Y = X_norm, Y\n",
        "\n",
        "### END CODE HERE ###"
      ]
    },
    {
      "cell_type": "markdown",
      "id": "5465bfa4",
      "metadata": {
        "id": "5465bfa4"
      },
      "source": [
        "Finally, we should add a column of $1$s at the beginning of $X$ to represent the bias term. Do this in the next cell. Note that after this process, $X$ should be an $m \\times (n+1)$ matrix."
      ]
    },
    {
      "cell_type": "code",
      "execution_count": null,
      "id": "b9a60f1f",
      "metadata": {
        "colab": {
          "base_uri": "https://localhost:8080/"
        },
        "id": "b9a60f1f",
        "outputId": "a807a096-6421-41e9-e8f4-1bf922e41254"
      },
      "outputs": [
        {
          "output_type": "stream",
          "name": "stdout",
          "text": [
            "(10000, 4)\n"
          ]
        }
      ],
      "source": [
        "### START CODE HERE ###\n",
        "\n",
        "# Create a column of 1s, with the same number of rows as X\n",
        "ones_column = np.ones((X.shape[0], 1))\n",
        "\n",
        "# Add this column of 1s to the beginning of X\n",
        "X_with_bias = np.hstack((ones_column, X))\n",
        "\n",
        "# Now X_with_bias is the updated feature matrix including the bias term\n",
        "X = X_with_bias  # Overwrite X with the new matrix including the bias term\n",
        "\n",
        "### END CODE HERE ###\n",
        "\n",
        "print(X.shape)"
      ]
    },
    {
      "cell_type": "markdown",
      "id": "5cdf0d78",
      "metadata": {
        "id": "5cdf0d78"
      },
      "source": [
        "## Training Model"
      ]
    },
    {
      "cell_type": "markdown",
      "id": "c8714abe",
      "metadata": {
        "id": "c8714abe"
      },
      "source": [
        "### Sigmoid Function\n",
        "You should begin by implementing the $\\sigma(\\mathbf{x})$ function. Recall that the logistic regression hypothesis $\\mathcal{h}()$ is defined as:\n",
        "$$\n",
        "\\mathcal{h}_{\\theta}(\\mathbf{x}) = \\mathcal{g}(\\theta^\\mathbf{T}\\mathbf{x})\n",
        "$$\n",
        "where $\\mathcal{g}()$ is the sigmoid function as:\n",
        "$$\n",
        "\\mathcal{g}(\\mathbf{z}) = \\frac{1}{1+exp^{-\\mathbf{z}}}\n",
        "$$\n",
        "The Sigmoid function has the property that $\\mathbf{g}(+\\infty)\\approx 1$ and $\\mathcal{g}(−\\infty)\\approx0$. Test your function by calling `sigmoid(z)` on different test samples. Be certain that your sigmoid function works with both vectors and matrices - for either a vector or a matrix, your function should perform the sigmoid function on every element."
      ]
    },
    {
      "cell_type": "code",
      "execution_count": null,
      "id": "6a6b6ae4",
      "metadata": {
        "id": "6a6b6ae4"
      },
      "outputs": [],
      "source": [
        "def sigmoid(Z):\n",
        "    '''\n",
        "    Applies the sigmoid function on every element of Z\n",
        "    Arguments:\n",
        "        Z can be a (n,) vector or (n , m) matrix\n",
        "    Returns:\n",
        "        A vector/matrix, same shape with Z, that has the sigmoid function applied elementwise\n",
        "    '''\n",
        "    ### START CODE HERE ###\n",
        "\n",
        "    return 1 / (1 + np.exp(-Z))\n",
        "\n",
        "    ### END CODE HERE ###"
      ]
    },
    {
      "cell_type": "code",
      "source": [
        "# Test the sigmoid function\n",
        "test_scalar = 0\n",
        "test_vector = np.array([-1, 0, 1, 2])\n",
        "test_matrix = np.array([[1, 2], [-1, -2]])\n",
        "\n",
        "print(\"Sigmoid of scalar 0:\", sigmoid(test_scalar))\n",
        "print(\"Sigmoid of vector [-1, 0, 1, 2]:\", sigmoid(test_vector))\n",
        "print(\"Sigmoid of matrix [[1, 2], [-1, -2]]:\", sigmoid(test_matrix))"
      ],
      "metadata": {
        "colab": {
          "base_uri": "https://localhost:8080/"
        },
        "id": "tR3KWvGmlSS6",
        "outputId": "f3fba883-82a1-4538-c065-96ee214f8e14"
      },
      "id": "tR3KWvGmlSS6",
      "execution_count": null,
      "outputs": [
        {
          "output_type": "stream",
          "name": "stdout",
          "text": [
            "Sigmoid of scalar 0: 0.5\n",
            "Sigmoid of vector [-1, 0, 1, 2]: [0.26894142 0.5        0.73105858 0.88079708]\n",
            "Sigmoid of matrix [[1, 2], [-1, -2]]: [[0.73105858 0.88079708]\n",
            " [0.26894142 0.11920292]]\n"
          ]
        }
      ]
    },
    {
      "cell_type": "markdown",
      "id": "83846074",
      "metadata": {
        "id": "83846074"
      },
      "source": [
        "### Cost Function\n",
        "Implement the functions to compute the cost function. Recall the cost function for logistic regression is a scalar value given by:\n",
        "$$\n",
        "\\mathcal{J}(\\theta) = \\sum_{i=1}^{n}[-y^{(i)}\\log{(\\mathcal{h}_\\theta(\\mathbf{x}^{(i)}))}-(1-y^{(i)})\\log{(1-\\mathcal{h}_\\theta(\\mathbf{x}^{(i)}))}] + \\frac{\\lambda}{2}||\\theta||_2^2\n",
        "$$"
      ]
    },
    {
      "cell_type": "code",
      "execution_count": null,
      "id": "26a9bdeb",
      "metadata": {
        "id": "26a9bdeb"
      },
      "outputs": [],
      "source": [
        "def computeCost(theta, X, y, regLambda):\n",
        "    '''\n",
        "    Computes the objective function\n",
        "    Arguments:\n",
        "        theta is d-dimensional numpy vector\n",
        "        X is a n-by-d numpy matrix\n",
        "        y is an n-dimensional numpy vector\n",
        "        regLambda is the scalar regularization constant\n",
        "    Returns:\n",
        "        a scalar value of the cost  ** make certain you're not returning a 1 x 1 matrix! **\n",
        "    '''\n",
        "\n",
        "    m, n = X.shape\n",
        "    loss = None\n",
        "    ### START CODE HERE ###\n",
        "\n",
        "    # Logistic regression hypothesis\n",
        "    h = sigmoid(X.dot(theta))\n",
        "\n",
        "    # Compute the cost\n",
        "    loss = (np.sum(-y * np.log(h) -(1 - y) * np.log(1 - h)) / m) + (regLambda / 2) * np.sum(theta[1:]**2)\n",
        "\n",
        "    ### END CODE HERE ###\n",
        "    return loss"
      ]
    },
    {
      "cell_type": "markdown",
      "id": "6eaf1146",
      "metadata": {
        "id": "6eaf1146"
      },
      "source": [
        "### Gradient of the Cost Function\n",
        "Now, we want to calculate the gradient of the cost function. The gradient of the cost function is a d-dimensional vector.\\\n",
        "We must be careful not to regularize the $\\theta_0$ parameter (corresponding to the first feature we add to each instance), and so the 0's element is given by:\n",
        "$$\n",
        "\\frac{\\partial \\mathcal{J}(\\theta)}{\\partial \\theta_0} = \\sum_{i=1}^n (\\mathcal{h}_\\theta(\\mathbf{x}^{(i)})-y^{(i)})\n",
        "$$\n",
        "\n",
        "Question: What is the answer to this problem for the $j^{th}$ element (for $j=1...d$)?\n",
        "\n",
        "Answer:\n",
        "$$\\frac{\\partial \\mathcal{J}(\\theta)}{\\partial \\theta_j} = \\frac{1}{n} \\sum_{i=1}^n \\left(\\mathcal{h}_\\theta(\\mathbf{x}^{(i)}) - y^{(i)}\\right) x_j^{(i)} + \\lambda \\theta_j \\quad \\text{for } j = 1, \\ldots, d$$\n"
      ]
    },
    {
      "cell_type": "code",
      "execution_count": null,
      "id": "35f7c2dd",
      "metadata": {
        "id": "35f7c2dd"
      },
      "outputs": [],
      "source": [
        "def computeGradient(theta, X, y, regLambda):\n",
        "    '''\n",
        "    Computes the gradient of the objective function\n",
        "    Arguments:\n",
        "        theta is d-dimensional numpy vector\n",
        "        X is a n-by-d numpy matrix\n",
        "        y is an n-dimensional numpy vector\n",
        "        regLambda is the scalar regularization constant\n",
        "    Returns:\n",
        "        the gradient, an d-dimensional vector\n",
        "    '''\n",
        "\n",
        "    n, d = X.shape\n",
        "    grad = None\n",
        "    ### START CODE HERE ###\n",
        "\n",
        "    # Logistic regression hypothesis\n",
        "    h = sigmoid(X.dot(theta))\n",
        "\n",
        "    # Gradient calculation\n",
        "    error = h - y\n",
        "    grad = (X.T.dot(error) / n)\n",
        "\n",
        "    # Regularization for j = 1 to d, note theta_0 is not regularized\n",
        "    reg = (regLambda / n) * theta\n",
        "    reg[0] = 0  # No regularization for theta_0\n",
        "\n",
        "    # Adding regularization to the gradient\n",
        "    grad += reg\n",
        "\n",
        "    ### END CODE HERE ###\n",
        "    return grad"
      ]
    },
    {
      "cell_type": "markdown",
      "id": "24bc86bd",
      "metadata": {
        "id": "24bc86bd"
      },
      "source": [
        "### Training and Prediction\n",
        "Once you have the cost and gradient functions complete, implemen tthe fit and predict methods.\\\n",
        "Your fit method should train the model via gradient descent, relying on the cost and gradient functions. This function should return two parameters. The first parameter is $\\theta$, and the second parameter is a `numpy` array that contains the loss in each iteration. This array is indicated by `loss_history` in the code.\\\n",
        "Instead of simply running gradient descent for a specific number of iterations, we will use a more sophisticated method: we will stop it after the solution hasconverged. Stop the gradient descent procedure when $\\theta$ stops changing between consecutive iterations. You can detect this convergence when:\n",
        "$$\n",
        "||\\theta_{new}-\\theta_{old}||_2 <= \\epsilon,\n",
        "$$\n",
        "for some small $\\epsilon$ (e.g, $\\epsilon=10E-4$).\\\n",
        "For readability, we’d recommend implementing this convergence test as a dedicated function `hasConverged`."
      ]
    },
    {
      "cell_type": "code",
      "execution_count": null,
      "id": "cc0cad78",
      "metadata": {
        "id": "cc0cad78"
      },
      "outputs": [],
      "source": [
        "def fit(X, y, regLambda = 0.01, alpha = 0.01, epsilon = 1e-4, maxNumIters = 100):\n",
        "    '''\n",
        "    Trains the model\n",
        "    Arguments:\n",
        "        X           is a n-by-d numpy matrix\n",
        "        y           is an n-dimensional numpy vector\n",
        "        maxNumIters is the maximum number of gradient descent iterations\n",
        "        regLambda   is the scalar regularization constant\n",
        "        epsilon     is the convergence rate\n",
        "        alpha       is the gradient descent learning rate\n",
        "    '''\n",
        "\n",
        "    m, n = X.shape\n",
        "    theta, loss_history = None, []\n",
        "    ### START CODE HERE ###\n",
        "\n",
        "    theta = np.zeros(n)  # Initialize theta\n",
        "\n",
        "    for iteration in range(maxNumIters):\n",
        "        theta_old = np.copy(theta)  # Store old theta\n",
        "\n",
        "        # Compute the gradient and update theta\n",
        "        gradient = computeGradient(theta, X, y, regLambda)\n",
        "        theta -= alpha * gradient\n",
        "\n",
        "        # Compute the cost for the current theta\n",
        "        cost = computeCost(theta, X, y, regLambda)\n",
        "        loss_history.append(cost)\n",
        "\n",
        "        # Check if the convergence criteria are met\n",
        "        if hasConverged(theta_old, theta, epsilon):\n",
        "            break\n",
        "\n",
        "    ### END CODE HERE ###\n",
        "    return theta, loss_history\n",
        "\n",
        "\n",
        "def hasConverged(theta_old, theta_new, epsilon):\n",
        "    '''\n",
        "    Return if the theta converged or not\n",
        "    Arguments:\n",
        "        theta_old   is the theta calculated in prevoius iteration\n",
        "        theta_new   is the theta calculated in current iteration\n",
        "        epsilon     is the convergence rate\n",
        "    '''\n",
        "\n",
        "    ### START CODE HERE ###\n",
        "\n",
        "    hasconverged = np.linalg.norm(theta_new - theta_old, 2) <= epsilon\n",
        "\n",
        "    ### END CODE HERE ###\n",
        "    return hasconverged"
      ]
    },
    {
      "cell_type": "markdown",
      "id": "bb648852",
      "metadata": {
        "id": "bb648852"
      },
      "source": [
        "Finally, we want to evaluate our loss for this problem. Complete the cell below to calculate and print the loss of each iteration and the final theta of your model."
      ]
    },
    {
      "cell_type": "code",
      "execution_count": null,
      "id": "252e556f",
      "metadata": {
        "id": "252e556f",
        "colab": {
          "base_uri": "https://localhost:8080/"
        },
        "outputId": "96edead5-c908-4184-bd2f-9ad7cecd3779"
      },
      "outputs": [
        {
          "output_type": "stream",
          "name": "stdout",
          "text": [
            "Iteration 1: Loss = 0.6915\n",
            "Iteration 2: Loss = 0.6898\n",
            "Iteration 3: Loss = 0.6882\n",
            "Iteration 4: Loss = 0.6866\n",
            "Iteration 5: Loss = 0.6849\n",
            "Iteration 6: Loss = 0.6833\n",
            "Iteration 7: Loss = 0.6817\n",
            "Iteration 8: Loss = 0.6801\n",
            "Iteration 9: Loss = 0.6785\n",
            "Iteration 10: Loss = 0.6769\n",
            "Iteration 11: Loss = 0.6753\n",
            "Iteration 12: Loss = 0.6738\n",
            "Iteration 13: Loss = 0.6722\n",
            "Iteration 14: Loss = 0.6707\n",
            "Iteration 15: Loss = 0.6691\n",
            "Iteration 16: Loss = 0.6676\n",
            "Iteration 17: Loss = 0.6661\n",
            "Iteration 18: Loss = 0.6645\n",
            "Iteration 19: Loss = 0.6630\n",
            "Iteration 20: Loss = 0.6615\n",
            "Iteration 21: Loss = 0.6600\n",
            "Iteration 22: Loss = 0.6585\n",
            "Iteration 23: Loss = 0.6570\n",
            "Iteration 24: Loss = 0.6556\n",
            "Iteration 25: Loss = 0.6541\n",
            "Iteration 26: Loss = 0.6526\n",
            "Iteration 27: Loss = 0.6512\n",
            "Iteration 28: Loss = 0.6497\n",
            "Iteration 29: Loss = 0.6483\n",
            "Iteration 30: Loss = 0.6469\n",
            "Iteration 31: Loss = 0.6454\n",
            "Iteration 32: Loss = 0.6440\n",
            "Iteration 33: Loss = 0.6426\n",
            "Iteration 34: Loss = 0.6412\n",
            "Iteration 35: Loss = 0.6398\n",
            "Iteration 36: Loss = 0.6384\n",
            "Iteration 37: Loss = 0.6370\n",
            "Iteration 38: Loss = 0.6357\n",
            "Iteration 39: Loss = 0.6343\n",
            "Iteration 40: Loss = 0.6329\n",
            "Iteration 41: Loss = 0.6316\n",
            "Iteration 42: Loss = 0.6302\n",
            "Iteration 43: Loss = 0.6289\n",
            "Iteration 44: Loss = 0.6276\n",
            "Iteration 45: Loss = 0.6262\n",
            "Iteration 46: Loss = 0.6249\n",
            "Iteration 47: Loss = 0.6236\n",
            "Iteration 48: Loss = 0.6223\n",
            "Iteration 49: Loss = 0.6210\n",
            "Iteration 50: Loss = 0.6197\n",
            "Iteration 51: Loss = 0.6184\n",
            "Iteration 52: Loss = 0.6172\n",
            "Iteration 53: Loss = 0.6159\n",
            "Iteration 54: Loss = 0.6146\n",
            "Iteration 55: Loss = 0.6133\n",
            "Iteration 56: Loss = 0.6121\n",
            "Iteration 57: Loss = 0.6108\n",
            "Iteration 58: Loss = 0.6096\n",
            "Iteration 59: Loss = 0.6084\n",
            "Iteration 60: Loss = 0.6071\n",
            "Iteration 61: Loss = 0.6059\n",
            "Iteration 62: Loss = 0.6047\n",
            "Iteration 63: Loss = 0.6035\n",
            "Iteration 64: Loss = 0.6023\n",
            "Iteration 65: Loss = 0.6011\n",
            "Iteration 66: Loss = 0.5999\n",
            "Iteration 67: Loss = 0.5987\n",
            "Iteration 68: Loss = 0.5975\n",
            "Iteration 69: Loss = 0.5963\n",
            "Iteration 70: Loss = 0.5952\n",
            "Iteration 71: Loss = 0.5940\n",
            "Iteration 72: Loss = 0.5928\n",
            "Iteration 73: Loss = 0.5917\n",
            "Iteration 74: Loss = 0.5905\n",
            "Iteration 75: Loss = 0.5894\n",
            "Iteration 76: Loss = 0.5883\n",
            "Iteration 77: Loss = 0.5871\n",
            "Iteration 78: Loss = 0.5860\n",
            "Iteration 79: Loss = 0.5849\n",
            "Iteration 80: Loss = 0.5838\n",
            "Iteration 81: Loss = 0.5827\n",
            "Iteration 82: Loss = 0.5816\n",
            "Iteration 83: Loss = 0.5805\n",
            "Iteration 84: Loss = 0.5794\n",
            "Iteration 85: Loss = 0.5783\n",
            "Iteration 86: Loss = 0.5772\n",
            "Iteration 87: Loss = 0.5761\n",
            "Iteration 88: Loss = 0.5751\n",
            "Iteration 89: Loss = 0.5740\n",
            "Iteration 90: Loss = 0.5729\n",
            "Iteration 91: Loss = 0.5719\n",
            "Iteration 92: Loss = 0.5708\n",
            "Iteration 93: Loss = 0.5698\n",
            "Iteration 94: Loss = 0.5687\n",
            "Iteration 95: Loss = 0.5677\n",
            "Iteration 96: Loss = 0.5667\n",
            "Iteration 97: Loss = 0.5656\n",
            "Iteration 98: Loss = 0.5646\n",
            "Iteration 99: Loss = 0.5636\n",
            "Iteration 100: Loss = 0.5626\n",
            "\n",
            "Final theta: [ 0.14721272 -0.21750811  0.23679233  0.07455652]\n"
          ]
        }
      ],
      "source": [
        "theta, loss_history = fit(X, Y) # calculating theta and loss of each iteration\n",
        "\n",
        "### START CODE HERE ###\n",
        "\n",
        "# Print the loss at each iteration\n",
        "for i, loss in enumerate(loss_history):\n",
        "    print(f\"Iteration {i+1}: Loss = {loss:.4f}\")\n",
        "\n",
        "# Print the final theta values\n",
        "print(f\"\\nFinal theta: {theta}\")\n",
        "\n",
        "### END CODE HERE ###"
      ]
    },
    {
      "cell_type": "markdown",
      "id": "f4b3fab6",
      "metadata": {
        "id": "f4b3fab6"
      },
      "source": [
        "### Testing Your Implementation\n",
        "To test your logistic regression implementation, first you should use `train_test_split` function to split dataset into three parts:\n",
        "\n",
        "- 70% for the training set\n",
        "- 20% for the validation set\n",
        "- 10% for the test set\n",
        "\n",
        "Do this in the cell below."
      ]
    },
    {
      "cell_type": "code",
      "execution_count": null,
      "id": "4518fe11",
      "metadata": {
        "id": "4518fe11",
        "colab": {
          "base_uri": "https://localhost:8080/"
        },
        "outputId": "9a4f10ee-8aa3-42b4-c7bf-62b27df26d24"
      },
      "outputs": [
        {
          "output_type": "stream",
          "name": "stdout",
          "text": [
            "Training set size:  7000\n",
            "Validation set size:  2000\n",
            "Test set size:  1000\n"
          ]
        }
      ],
      "source": [
        "X_train, Y_train, X_val, Y_val, X_test, Y_test = None, None, None, None, None, None\n",
        "\n",
        "### START CODE HERE ###\n",
        "\n",
        "# First, split the data into training (70%) and temp (30%) parts\n",
        "X_train, X_temp, Y_train, Y_temp = train_test_split(X, Y, test_size=0.3, random_state=42)\n",
        "\n",
        "# Now split the temp part into validation (20% of the original dataset) and test (10% of the original dataset)\n",
        "# Since 20% is 2/3 of 30%, and 10% is 1/3 of 30%\n",
        "X_val, X_test, Y_val, Y_test = train_test_split(X_temp, Y_temp, test_size=1/3, random_state=42)\n",
        "\n",
        "### START CODE HERE ###\n",
        "# As we have already completed the splits above, here you can implement any checks or display info if necessary.\n",
        "print(\"Training set size: \", X_train.shape[0])\n",
        "print(\"Validation set size: \", X_val.shape[0])\n",
        "print(\"Test set size: \", X_test.shape[0])\n",
        "\n",
        "### END CODE HERE ###"
      ]
    },
    {
      "cell_type": "markdown",
      "id": "f9fbe5d7",
      "metadata": {
        "id": "f9fbe5d7"
      },
      "source": [
        "Then, you should complete `predict` function to find the weight vector and the loss on the test data."
      ]
    },
    {
      "cell_type": "code",
      "execution_count": null,
      "id": "95c2fe20",
      "metadata": {
        "id": "95c2fe20"
      },
      "outputs": [],
      "source": [
        "def predict(X, theta):\n",
        "    '''\n",
        "    Use the model to predict values for each instance in X\n",
        "    Arguments:\n",
        "        theta is d-dimensional numpy vector\n",
        "        X     is a n-by-d numpy matrix\n",
        "    Returns:\n",
        "        an n-dimensional numpy vector of the predictions, the output should be binary (use h_theta > .5)\n",
        "    '''\n",
        "\n",
        "    Y = None\n",
        "    ### START CODE HERE ###\n",
        "\n",
        "    # Compute the hypothesis using the sigmoid function\n",
        "    prob = sigmoid(X.dot(theta))\n",
        "\n",
        "    # Convert probabilities to binary outcomes\n",
        "    Y = (prob > 0.5).astype(int)\n",
        "\n",
        "    ### END CODE HERE ###\n",
        "    return Y"
      ]
    },
    {
      "cell_type": "markdown",
      "id": "246d1c02",
      "metadata": {
        "id": "246d1c02"
      },
      "source": [
        "Now, run the `fit` and `predict` function for different values of the learning rate and regularization constant. Plot the `loss_history` of these different values for train and test data both in the same figure.\n",
        "\n",
        "**Question**: Discuss the effect of the learning rate and regularization constant and find the best values of these parameters.\n",
        "\n",
        "**Answer**:\n",
        "\n",
        "Learning Rate (α): A higher learning rate can lead to faster convergence but might overshoot the minimum, leading to divergence in some cases. A lower learning rate ensures more stable convergence but at the cost of slower training.\n",
        "Regularization Constant (λ): Higher regularization values help prevent overfitting by penalizing large weights, but too high a value can lead to underfitting as the model becomes too biased towards smaller weights. Conversely, a smaller λ might lead to overfitting, especially with complex models."
      ]
    },
    {
      "cell_type": "code",
      "execution_count": null,
      "id": "cd2af382",
      "metadata": {
        "id": "cd2af382",
        "colab": {
          "base_uri": "https://localhost:8080/",
          "height": 718
        },
        "outputId": "5eb5ebba-bfd3-491a-c8cc-69bf59605402"
      },
      "outputs": [
        {
          "output_type": "display_data",
          "data": {
            "text/plain": [
              "<Figure size 1200x800 with 1 Axes>"
            ],
            "image/png": "[encoded data removed]"
          },
          "metadata": {}
        }
      ],
      "source": [
        "### START CODE HERE ###\n",
        "\n",
        "# Define a function to simulate the fit process and return loss history for both training and testing\n",
        "def simulate_fit_and_predict(X_train, Y_train, X_test, Y_test, alpha, regLambda, maxNumIters=100):\n",
        "    m, n = X_train.shape\n",
        "    theta = np.zeros(n)\n",
        "    train_loss_history = []\n",
        "    test_loss_history = []\n",
        "\n",
        "    for _ in range(maxNumIters):\n",
        "        # Gradient descent update\n",
        "        gradient = computeGradient(theta, X_train, Y_train, regLambda)\n",
        "        theta -= alpha * gradient\n",
        "\n",
        "        # Compute and store train and test losses\n",
        "        train_loss = computeCost(theta, X_train, Y_train, regLambda)\n",
        "        test_loss = computeCost(theta, X_test, Y_test, regLambda)\n",
        "        train_loss_history.append(train_loss)\n",
        "        test_loss_history.append(test_loss)\n",
        "\n",
        "    return theta, train_loss_history, test_loss_history\n",
        "\n",
        "# Define a range of learning rates and regularization constants\n",
        "learning_rates = [0.001, 0.01, 0.1]\n",
        "regularization_constants = [0.01, 0.1, 1]\n",
        "\n",
        "# Initialize plot\n",
        "plt.figure(figsize=(12, 8))\n",
        "\n",
        "# Simulate training and testing process\n",
        "for alpha in learning_rates:\n",
        "    for regLambda in regularization_constants:\n",
        "        theta, train_loss_history, test_loss_history = simulate_fit_and_predict(\n",
        "            X_train, Y_train, X_test, Y_test, alpha, regLambda)\n",
        "\n",
        "        # Plot the loss histories\n",
        "        plt.plot(train_loss_history, label=f'Train: α={alpha}, λ={regLambda}')\n",
        "        plt.plot(test_loss_history, linestyle='--', label=f'Test: α={alpha}, λ={regLambda}')\n",
        "\n",
        "# Adding labels, legend, and title to the plot\n",
        "plt.xlabel('Iteration')\n",
        "plt.ylabel('Loss')\n",
        "plt.title('Training and Test Loss for Different Learning Rates and Regularization Constants')\n",
        "plt.legend()\n",
        "plt.show()\n",
        "\n",
        "### END CODE HERE ###"
      ]
    },
    {
      "cell_type": "markdown",
      "id": "11babf15",
      "metadata": {
        "id": "11babf15"
      },
      "source": [
        "## Naive Bayes\n",
        "\n",
        "In this part, you will use the `GaussianNB` classifier to classify the data. You should not change the default parameters of this classifier. First, train the classifier on the training set and then find the accuracy of it on the test set.\n",
        "\n",
        "**Question**: What is the accuracy of this method on test set?\n",
        "\n",
        "**Answer**:"
      ]
    },
    {
      "cell_type": "code",
      "execution_count": null,
      "id": "1ef450fb",
      "metadata": {
        "id": "1ef450fb",
        "colab": {
          "base_uri": "https://localhost:8080/"
        },
        "outputId": "d6f1d5c7-aa72-4055-fec7-e46d700dd896"
      },
      "outputs": [
        {
          "output_type": "stream",
          "name": "stdout",
          "text": [
            "Accuracy of Gaussian Naive Bayes on the test set: 0.929\n"
          ]
        }
      ],
      "source": [
        "### START CODE HERE ###\n",
        "\n",
        "# Create a Gaussian Naive Bayes classifier\n",
        "gnb = GaussianNB()\n",
        "\n",
        "# Train the classifier on the training data\n",
        "gnb.fit(X_train, Y_train)\n",
        "\n",
        "# Predict the labels of the test set\n",
        "Y_pred = gnb.predict(X_test)\n",
        "\n",
        "# Calculate the accuracy of the predictions on the test set\n",
        "accuracy = accuracy_score(Y_test, Y_pred)\n",
        "print(\"Accuracy of Gaussian Naive Bayes on the test set:\", accuracy)\n",
        "\n",
        "### END CODE HERE ###"
      ]
    },
    {
      "cell_type": "markdown",
      "id": "b371657d",
      "metadata": {
        "id": "b371657d"
      },
      "source": [
        "## LDA (Linear Discriminant Analysis)\n",
        "\n",
        "In this part, you will use the `LinearDiscriminantAnalysis` classifier to classify the data. You should not change the default parameters of this classifier. First, train the classifier on the training set and then find the accuracy of it on the test set.\n",
        "\n",
        "**Question**: What is the accuracy of this method on test set?\n",
        "\n",
        "**Answer**:"
      ]
    },
    {
      "cell_type": "code",
      "execution_count": null,
      "id": "92cc8743",
      "metadata": {
        "id": "92cc8743",
        "colab": {
          "base_uri": "https://localhost:8080/"
        },
        "outputId": "6b0b9415-a7e3-4a6c-c9fd-c20481037080"
      },
      "outputs": [
        {
          "output_type": "stream",
          "name": "stdout",
          "text": [
            "Accuracy of Linear Discriminant Analysis on the test set: 0.985\n"
          ]
        }
      ],
      "source": [
        "### START CODE HERE ###\n",
        "\n",
        "# Create an instance of the LinearDiscriminantAnalysis classifier\n",
        "lda = LinearDiscriminantAnalysis()\n",
        "\n",
        "# Train the classifier on the training data\n",
        "lda.fit(X_train, Y_train)\n",
        "\n",
        "# Predict the labels of the test data\n",
        "Y_pred = lda.predict(X_test)\n",
        "\n",
        "# Calculate the accuracy of the predictions on the test set\n",
        "accuracy = accuracy_score(Y_test, Y_pred)\n",
        "print(\"Accuracy of Linear Discriminant Analysis on the test set:\", accuracy)\n",
        "\n",
        "### END CODE HERE ###"
      ]
    },
    {
      "cell_type": "markdown",
      "id": "47736bdf",
      "metadata": {
        "id": "47736bdf"
      },
      "source": [
        "## Conclution\n",
        "\n",
        "**Question**: What is the best method for classifying this dataset? What is the best accuracy on the test set?\n",
        "\n",
        "**Answer**:"
      ]
    }
  ],
  "metadata": {
    "kernelspec": {
      "display_name": "Python 3 (ipykernel)",
      "language": "python",
      "name": "python3"
    },
    "language_info": {
      "codemirror_mode": {
        "name": "ipython",
        "version": 3
      },
      "file_extension": ".py",
      "mimetype": "text/x-python",
      "name": "python",
      "nbconvert_exporter": "python",
      "pygments_lexer": "ipython3",
      "version": "3.9.12"
    },
    "colab": {
      "provenance": [],
      "include_colab_link": true
    }
  },
  "nbformat": 4,
  "nbformat_minor": 5
}