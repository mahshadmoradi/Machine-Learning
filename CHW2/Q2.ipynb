{
  "cells": [
    {
      "cell_type": "markdown",
      "metadata": {
        "id": "view-in-github",
        "colab_type": "text"
      },
      "source": [
        "<a href=\"https://colab.research.google.com/github/mahshadmoradi/Machine-Learning/blob/main/Q2.ipynb\" target=\"_parent\"><img src=\"https://colab.research.google.com/assets/colab-badge.svg\" alt=\"Open In Colab\"/></a>"
      ]
    },
    {
      "cell_type": "markdown",
      "metadata": {
        "id": "ChC3RF8meAlK"
      },
      "source": [
        "<h1 align=\"center\">Introduction to Machine Learning - 25737-2</h1>\n",
        "<h4 align=\"center\">Dr. R. Amiri</h4>\n",
        "<h4 align=\"center\">Sharif University of Technology, Spring 2024</h4>\n",
        "\n",
        "\n",
        "**<font color='red'>Plagiarism is strongly prohibited!</font>**\n",
        "\n",
        "\n",
        "**Student Name**: Mahshad Moradi\n",
        "\n",
        "**Student ID**: 400109373\n",
        "\n",
        "\n",
        "\n"
      ]
    },
    {
      "cell_type": "code",
      "source": [
        "# Import necessary libraries\n",
        "import torch\n",
        "import torch.nn as nn\n",
        "import torch.optim as optim\n",
        "import pandas as pd\n",
        "from sklearn.model_selection import train_test_split\n",
        "from sklearn.metrics import accuracy_score, precision_score, recall_score, f1_score\n",
        "from sklearn.preprocessing import StandardScaler\n",
        "import seaborn as sns\n",
        "import matplotlib.pyplot as plt\n",
        "import numpy as np\n",
        "\n",
        "device = 'cuda' if torch.cuda.is_available() else 'cpu'\n",
        "torch.device(device)"
      ],
      "metadata": {
        "colab": {
          "base_uri": "https://localhost:8080/"
        },
        "id": "i365JVjsqAG0",
        "outputId": "47e16d0e-bb73-4612-9f40-91b197d9ad9e"
      },
      "execution_count": 7,
      "outputs": [
        {
          "output_type": "execute_result",
          "data": {
            "text/plain": [
              "device(type='cpu')"
            ]
          },
          "metadata": {},
          "execution_count": 7
        }
      ]
    },
    {
      "cell_type": "markdown",
      "metadata": {
        "id": "IraiR0SbeDi_"
      },
      "source": [
        "# Logistic Regression"
      ]
    },
    {
      "cell_type": "markdown",
      "metadata": {
        "id": "nRQjwWC3eDnc"
      },
      "source": [
        "**Task:** Implement your own Logistic Regression model, and test it on the given dataset of Logistic_question.csv!"
      ]
    },
    {
      "cell_type": "code",
      "execution_count": 2,
      "metadata": {
        "id": "PUnU5AguH_Yg"
      },
      "outputs": [],
      "source": [
        "class MyLogisticRegression:\n",
        "    # Your code goes here!\n",
        "    # This class must have an __init__ method, a loss function, a fit function, and a predict function. You also need to make your code runnable on gpu!\n",
        "\n",
        "    def __init__(self, input_size, lr=0.01):\n",
        "        self.lr = lr\n",
        "        device=torch.device('cuda' if torch.cuda.is_available() else 'cpu')\n",
        "        # Initialize weights and bias as tensors, with gradients tracking, on the default device (GPU if available)\n",
        "        self.weights = torch.randn(input_size, requires_grad=True, device=device)\n",
        "        self.bias = torch.randn(1, requires_grad=True, device=device)\n",
        "\n",
        "    def sigmoid(self, z):\n",
        "        return 1 / (1 + torch.exp(-z))\n",
        "\n",
        "    def loss(self, y_pred, y_true):\n",
        "        loss = -torch.mean(y_true * torch.log(y_pred) + (1 - y_true) * torch.log(1 - y_pred))\n",
        "        return loss\n",
        "\n",
        "    def fit(self, X, y, epochs=1000):\n",
        "        for epoch in range(epochs):\n",
        "            # Forward pass\n",
        "            z = torch.matmul(X, self.weights) + self.bias\n",
        "            y_pred = self.sigmoid(z)\n",
        "\n",
        "            # Compute loss\n",
        "            l = self.loss(y_pred, y)\n",
        "\n",
        "            # Backward pass\n",
        "            l.backward()\n",
        "\n",
        "            # Update weights and bias\n",
        "            with torch.no_grad():\n",
        "                self.weights -= self.lr * self.weights.grad\n",
        "                self.bias -= self.lr * self.bias.grad\n",
        "\n",
        "            # Zero the gradients\n",
        "            self.weights.grad.zero_()\n",
        "            self.bias.grad.zero_()\n",
        "\n",
        "            if epoch % 100 == 0:\n",
        "                print(f'Epoch {epoch}, Loss: {l.item()}')\n",
        "\n",
        "    def predict(self, X):\n",
        "        z = torch.matmul(X, self.weights) + self.bias\n",
        "        y_pred = self.sigmoid(z)\n",
        "        return torch.round(y_pred)  # Returns 0 or 1 based on the threshold of 0.5"
      ]
    },
    {
      "cell_type": "markdown",
      "metadata": {
        "id": "S-i-oubUlZ6e"
      },
      "source": [
        "**Task:** Test your model on the given dataset. You must split your data into train and test, with a 0.2 split, then normalize your data using X_train data. Finally, report 4 different evaluation metrics of the model on the test set. (You might want to first make the Target column binary!)"
      ]
    },
    {
      "cell_type": "code",
      "execution_count": 38,
      "metadata": {
        "id": "0KXzIy_2u-pG",
        "colab": {
          "base_uri": "https://localhost:8080/"
        },
        "outputId": "1ec41c3f-aec7-4101-829c-8cc83cfa6ba9"
      },
      "outputs": [
        {
          "output_type": "stream",
          "name": "stdout",
          "text": [
            "Epoch 0, Loss: 2.025759220123291\n",
            "Epoch 100, Loss: 0.6874526739120483\n",
            "Epoch 200, Loss: 0.45604509115219116\n",
            "Epoch 300, Loss: 0.39429235458374023\n",
            "Epoch 400, Loss: 0.36681121587753296\n",
            "Epoch 500, Loss: 0.3515411913394928\n",
            "Epoch 600, Loss: 0.34199222922325134\n",
            "Epoch 700, Loss: 0.33556467294692993\n",
            "Epoch 800, Loss: 0.3310115933418274\n",
            "Epoch 900, Loss: 0.32766062021255493\n",
            "\n",
            "Accuracy: 0.95\n",
            "Precision: 0.9487179487179487\n",
            "Recall: 0.9487179487179487\n",
            "F1 Score: 0.9487179487179487\n"
          ]
        }
      ],
      "source": [
        "# Your code goes here!\n",
        "\n",
        "# Load dataset\n",
        "df = pd.read_csv('Logistic_question.csv')\n",
        "\n",
        "# print(df.head)\n",
        "\n",
        "# Splitting the dataset into features and target variable\n",
        "X = df.drop('Target', axis=1).values\n",
        "y = df['Target'].values\n",
        "\n",
        "# Convert to binary\n",
        "y = (y > np.mean(y)).astype(int)\n",
        "\n",
        "# Split the data into training and test sets\n",
        "X_train, X_test, y_train, y_test = train_test_split(X, y, test_size=0.2, random_state = 42)\n",
        "\n",
        "# Normalize the data\n",
        "scaler = StandardScaler().fit(X_train)\n",
        "X_train_normalized = scaler.transform(X_train)\n",
        "X_test_normalized = scaler.transform(X_test)\n",
        "\n",
        "# Convert data to PyTorch tensors and move to GPU if available\n",
        "X_train_tensor = torch.tensor(X_train_normalized, dtype=torch.float32, device=device)\n",
        "y_train_tensor = torch.tensor(y_train, dtype=torch.float32, device=device)\n",
        "X_test_tensor = torch.tensor(X_test_normalized, dtype=torch.float32, device=device)\n",
        "y_test_tensor = torch.tensor(y_test, dtype=torch.float32, device=device)\n",
        "\n",
        "# Assuming input size is the number of features in X_train\n",
        "input_size = X_train_tensor.shape[1]\n",
        "model = MyLogisticRegression(input_size)\n",
        "model.fit(X_train_tensor, y_train_tensor, epochs=1000)\n",
        "\n",
        "# Making predictions on the test set\n",
        "y_pred_tensor = model.predict(X_test_tensor)\n",
        "y_pred = y_pred_tensor.detach().cpu().numpy()  # Detach from computation graph and convert to NumPy array\n",
        "\n",
        "# Evaluate the model\n",
        "accuracy = accuracy_score(y_test, y_pred)\n",
        "precision = precision_score(y_test, y_pred)\n",
        "recall = recall_score(y_test, y_pred)\n",
        "f1 = f1_score(y_test, y_pred)\n",
        "\n",
        "print(f\"\\nAccuracy: {accuracy}\")\n",
        "print(f\"Precision: {precision}\")\n",
        "print(f\"Recall: {recall}\")\n",
        "print(f\"F1 Score: {f1}\")"
      ]
    },
    {
      "cell_type": "markdown",
      "metadata": {
        "id": "Ji0RXNGKv1pa"
      },
      "source": [
        "**Question:** What are each of your used evaluation metrics? And for each one, mention situations in which they convey more data on the model performance in specific tasks."
      ]
    },
    {
      "cell_type": "markdown",
      "metadata": {
        "id": "ldveD35twRRZ"
      },
      "source": [
        "**Your answer:**\n",
        "\n",
        "**Accuracy** :\n",
        "It measures the proportion of true results (both true positives and true negatives) among the total number of cases examined. It's calculated as the number of correct predictions divided by the total number of predictions.\n",
        "\n",
        "It is useful when the dataset is balanced (i.e., the number of instances in each class is roughly the same). It gives a quick overview of the model's overall performance.\n",
        "\n",
        "**Precision** :\n",
        "It is the ratio of true positives to the sum of true and false positives. It indicates the quality of the positive class predictions.\n",
        "\n",
        "It is useful when the cost of false positives is high. For instance, in email spam detection, a high precision model avoids marking legitimate emails as spam.\n",
        "\n",
        "**Recall (Sensitivity)** :\n",
        "It is the ratio of true positives to the sum of true positives and false negatives. It measures the model's ability to detect positive instances.\n",
        "\n",
        "It is useful when the cost of false negatives is high. In medical diagnostics for a serious disease, it's crucial to identify as many true cases as possible, even if it means tolerating some false positives.\n",
        "\n",
        "**F1 Score** :\n",
        "It is the harmonic mean of precision and recall. It balances the trade-off between precision and recall in a single metric.\n",
        "\n",
        "It is useful when the dataset is imbalanced, or when you want to balance the importance of precision and recall. It's particularly useful when false positives and false negatives have a significant cost."
      ]
    },
    {
      "cell_type": "markdown",
      "metadata": {
        "id": "1ZCeRHZSw-mh"
      },
      "source": [
        "**Task:** Now test the built-in function of Python for Logistic Regression, and report all the same metrics used before."
      ]
    },
    {
      "cell_type": "code",
      "execution_count": 39,
      "metadata": {
        "id": "Vb5lRSQXDLR3",
        "colab": {
          "base_uri": "https://localhost:8080/"
        },
        "outputId": "44ba5a3b-23d6-4120-ba38-d693d504ae1a"
      },
      "outputs": [
        {
          "output_type": "stream",
          "name": "stdout",
          "text": [
            "Accuracy: 0.9625\n",
            "Precision: 0.9736842105263158\n",
            "Recall: 0.9487179487179487\n",
            "F1 Score: 0.9610389610389611\n"
          ]
        }
      ],
      "source": [
        "# Your code goes here!\n",
        "\n",
        "from sklearn.linear_model import LogisticRegression\n",
        "from sklearn.preprocessing import StandardScaler\n",
        "from sklearn.metrics import accuracy_score, precision_score, recall_score, f1_score\n",
        "from sklearn.model_selection import train_test_split\n",
        "import pandas as pd\n",
        "\n",
        "# Initialize and train the logistic regression model\n",
        "log_reg = LogisticRegression()\n",
        "log_reg.fit(X_train_tensor, y_train_tensor)\n",
        "\n",
        "# Predict on the test set\n",
        "y_pred = log_reg.predict(X_test_tensor)\n",
        "\n",
        "# Evaluation metrics\n",
        "accuracy = accuracy_score(y_test, y_pred)\n",
        "precision = precision_score(y_test, y_pred)\n",
        "recall = recall_score(y_test, y_pred)\n",
        "f1 = f1_score(y_test, y_pred)\n",
        "\n",
        "print(f\"Accuracy: {accuracy}\")\n",
        "print(f\"Precision: {precision}\")\n",
        "print(f\"Recall: {recall}\")\n",
        "print(f\"F1 Score: {f1}\")"
      ]
    },
    {
      "cell_type": "markdown",
      "metadata": {
        "id": "RCvIymmMy_ji"
      },
      "source": [
        "**Question:** Compare your function with the built-in function. On the matters of performance and parameters. Briefly explain what the parameters of the built-in function are and how they affect the model's performance?"
      ]
    },
    {
      "cell_type": "markdown",
      "metadata": {
        "id": "EY0ohM16z3De"
      },
      "source": [
        "**Your answer:**\n",
        "\n",
        "**Performance** :\n",
        "\n",
        "  **My function**: The performance of my function largely depends on the optimization and how well the gradient descent algorithm is implemented. Without advanced optimization techniques like mini-batch processing, momentum, or adaptive learning rates, it might converge slower and be less efficient on large datasets.\n",
        "\n",
        "  **Built-in Function**: Built-in functions are highly optimized and include a variety of solvers that are designed to perform well on different sizes and types of data. They often include parallel processing and are optimized at a lower level for performance.\n",
        "\n",
        "**Parameters and Their Effects** :\n",
        "\n",
        "  **My function**: The custom class has limited parameters, mainly focusing on the learning rate and the number of epochs for the gradient descent. These parameters directly affect how quickly the model converges to a solution and how accurately it fits the data without overfitting.\n",
        "\n",
        "  **Built-in Function**: Built-in logistic regression functions come with a wide range of parameters that influence the model's behavior and performance. Some key parameters include:\n",
        "  - `penalty`: Specifies the norm used in the penalization (regularization). Regularization helps prevent overfitting by penalizing large coefficients. Options typically include `l1`, `l2`, and sometimes `elasticnet` and `none`.\n",
        "  - `C`: The inverse of regularization strength; smaller values specify stronger regularization. It balances the trade-off between achieving a low training error and a low testing error (generalization).\n",
        "  - `solver`: Algorithm to use in the optimization problem. Different solvers are more suitable for certain types of data and models, affecting both performance and accuracy.\n",
        "  - `max_iter`: Maximum number of iterations taken for the solvers to converge. Similar to the epochs in the custom implementation but often with more sophisticated convergence criteria."
      ]
    },
    {
      "cell_type": "code",
      "source": [
        "df.describe()"
      ],
      "metadata": {
        "colab": {
          "base_uri": "https://localhost:8080/",
          "height": 297
        },
        "id": "lpRWWSQqTinK",
        "outputId": "06369951-e3f2-4b9b-d57b-d9099235abc0"
      },
      "execution_count": 40,
      "outputs": [
        {
          "output_type": "execute_result",
          "data": {
            "text/plain": [
              "        Feature 1   Feature 2   Feature 3   Feature 4   Feature 5   Feature 6  \\\n",
              "count  400.000000  400.000000  400.000000  400.000000  400.000000  400.000000   \n",
              "mean    26.807500   10.741000    3.087500    3.400000    3.452500    8.598925   \n",
              "std     11.473646    0.606951    1.143728    1.006869    0.898478    0.596317   \n",
              "min      0.000000    9.200000    1.000000    1.000000    1.000000    6.800000   \n",
              "25%     18.000000   10.300000    2.000000    2.500000    3.000000    8.170000   \n",
              "50%     27.000000   10.700000    3.000000    3.500000    3.500000    8.610000   \n",
              "75%     35.000000   11.200000    4.000000    4.000000    4.000000    9.062500   \n",
              "max     50.000000   12.000000    5.000000    5.000000    5.000000    9.920000   \n",
              "\n",
              "        Feature 7      Target  \n",
              "count  400.000000  400.000000  \n",
              "mean     0.547500    0.724350  \n",
              "std      0.498362    0.142609  \n",
              "min      0.000000    0.340000  \n",
              "25%      0.000000    0.640000  \n",
              "50%      1.000000    0.730000  \n",
              "75%      1.000000    0.830000  \n",
              "max      1.000000    0.970000  "
            ],
            "text/html": [
              "\n",
              "  <div id=\"df-2adaa91e-c47c-4d3b-9e73-4341f26316d9\" class=\"colab-df-container\">\n",
              "    <div>\n",
              "<style scoped>\n",
              "    .dataframe tbody tr th:only-of-type {\n",
              "        vertical-align: middle;\n",
              "    }\n",
              "\n",
              "    .dataframe tbody tr th {\n",
              "        vertical-align: top;\n",
              "    }\n",
              "\n",
              "    .dataframe thead th {\n",
              "        text-align: right;\n",
              "    }\n",
              "</style>\n",
              "<table border=\"1\" class=\"dataframe\">\n",
              "  <thead>\n",
              "    <tr style=\"text-align: right;\">\n",
              "      <th></th>\n",
              "      <th>Feature 1</th>\n",
              "      <th>Feature 2</th>\n",
              "      <th>Feature 3</th>\n",
              "      <th>Feature 4</th>\n",
              "      <th>Feature 5</th>\n",
              "      <th>Feature 6</th>\n",
              "      <th>Feature 7</th>\n",
              "      <th>Target</th>\n",
              "    </tr>\n",
              "  </thead>\n",
              "  <tbody>\n",
              "    <tr>\n",
              "      <th>count</th>\n",
              "      <td>400.000000</td>\n",
              "      <td>400.000000</td>\n",
              "      <td>400.000000</td>\n",
              "      <td>400.000000</td>\n",
              "      <td>400.000000</td>\n",
              "      <td>400.000000</td>\n",
              "      <td>400.000000</td>\n",
              "      <td>400.000000</td>\n",
              "    </tr>\n",
              "    <tr>\n",
              "      <th>mean</th>\n",
              "      <td>26.807500</td>\n",
              "      <td>10.741000</td>\n",
              "      <td>3.087500</td>\n",
              "      <td>3.400000</td>\n",
              "      <td>3.452500</td>\n",
              "      <td>8.598925</td>\n",
              "      <td>0.547500</td>\n",
              "      <td>0.724350</td>\n",
              "    </tr>\n",
              "    <tr>\n",
              "      <th>std</th>\n",
              "      <td>11.473646</td>\n",
              "      <td>0.606951</td>\n",
              "      <td>1.143728</td>\n",
              "      <td>1.006869</td>\n",
              "      <td>0.898478</td>\n",
              "      <td>0.596317</td>\n",
              "      <td>0.498362</td>\n",
              "      <td>0.142609</td>\n",
              "    </tr>\n",
              "    <tr>\n",
              "      <th>min</th>\n",
              "      <td>0.000000</td>\n",
              "      <td>9.200000</td>\n",
              "      <td>1.000000</td>\n",
              "      <td>1.000000</td>\n",
              "      <td>1.000000</td>\n",
              "      <td>6.800000</td>\n",
              "      <td>0.000000</td>\n",
              "      <td>0.340000</td>\n",
              "    </tr>\n",
              "    <tr>\n",
              "      <th>25%</th>\n",
              "      <td>18.000000</td>\n",
              "      <td>10.300000</td>\n",
              "      <td>2.000000</td>\n",
              "      <td>2.500000</td>\n",
              "      <td>3.000000</td>\n",
              "      <td>8.170000</td>\n",
              "      <td>0.000000</td>\n",
              "      <td>0.640000</td>\n",
              "    </tr>\n",
              "    <tr>\n",
              "      <th>50%</th>\n",
              "      <td>27.000000</td>\n",
              "      <td>10.700000</td>\n",
              "      <td>3.000000</td>\n",
              "      <td>3.500000</td>\n",
              "      <td>3.500000</td>\n",
              "      <td>8.610000</td>\n",
              "      <td>1.000000</td>\n",
              "      <td>0.730000</td>\n",
              "    </tr>\n",
              "    <tr>\n",
              "      <th>75%</th>\n",
              "      <td>35.000000</td>\n",
              "      <td>11.200000</td>\n",
              "      <td>4.000000</td>\n",
              "      <td>4.000000</td>\n",
              "      <td>4.000000</td>\n",
              "      <td>9.062500</td>\n",
              "      <td>1.000000</td>\n",
              "      <td>0.830000</td>\n",
              "    </tr>\n",
              "    <tr>\n",
              "      <th>max</th>\n",
              "      <td>50.000000</td>\n",
              "      <td>12.000000</td>\n",
              "      <td>5.000000</td>\n",
              "      <td>5.000000</td>\n",
              "      <td>5.000000</td>\n",
              "      <td>9.920000</td>\n",
              "      <td>1.000000</td>\n",
              "      <td>0.970000</td>\n",
              "    </tr>\n",
              "  </tbody>\n",
              "</table>\n",
              "</div>\n",
              "    <div class=\"colab-df-buttons\">\n",
              "\n",
              "  <div class=\"colab-df-container\">\n",
              "    <button class=\"colab-df-convert\" onclick=\"convertToInteractive('df-2adaa91e-c47c-4d3b-9e73-4341f26316d9')\"\n",
              "            title=\"Convert this dataframe to an interactive table.\"\n",
              "            style=\"display:none;\">\n",
              "\n",
              "  <svg xmlns=\"http://www.w3.org/2000/svg\" height=\"24px\" viewBox=\"0 -960 960 960\">\n",
              "    <path d=\"M120-120v-720h720v720H120Zm60-500h600v-160H180v160Zm220 220h160v-160H400v160Zm0 220h160v-160H400v160ZM180-400h160v-160H180v160Zm440 0h160v-160H620v160ZM180-180h160v-160H180v160Zm440 0h160v-160H620v160Z\"/>\n",
              "  </svg>\n",
              "    </button>\n",
              "\n",
              "  <style>\n",
              "    .colab-df-container {\n",
              "      display:flex;\n",
              "      gap: 12px;\n",
              "    }\n",
              "\n",
              "    .colab-df-convert {\n",
              "      background-color: #E8F0FE;\n",
              "      border: none;\n",
              "      border-radius: 50%;\n",
              "      cursor: pointer;\n",
              "      display: none;\n",
              "      fill: #1967D2;\n",
              "      height: 32px;\n",
              "      padding: 0 0 0 0;\n",
              "      width: 32px;\n",
              "    }\n",
              "\n",
              "    .colab-df-convert:hover {\n",
              "      background-color: #E2EBFA;\n",
              "      box-shadow: 0px 1px 2px rgba(60, 64, 67, 0.3), 0px 1px 3px 1px rgba(60, 64, 67, 0.15);\n",
              "      fill: #174EA6;\n",
              "    }\n",
              "\n",
              "    .colab-df-buttons div {\n",
              "      margin-bottom: 4px;\n",
              "    }\n",
              "\n",
              "    [theme=dark] .colab-df-convert {\n",
              "      background-color: #3B4455;\n",
              "      fill: #D2E3FC;\n",
              "    }\n",
              "\n",
              "    [theme=dark] .colab-df-convert:hover {\n",
              "      background-color: #434B5C;\n",
              "      box-shadow: 0px 1px 3px 1px rgba(0, 0, 0, 0.15);\n",
              "      filter: drop-shadow(0px 1px 2px rgba(0, 0, 0, 0.3));\n",
              "      fill: #FFFFFF;\n",
              "    }\n",
              "  </style>\n",
              "\n",
              "    <script>\n",
              "      const buttonEl =\n",
              "        document.querySelector('#df-2adaa91e-c47c-4d3b-9e73-4341f26316d9 button.colab-df-convert');\n",
              "      buttonEl.style.display =\n",
              "        google.colab.kernel.accessAllowed ? 'block' : 'none';\n",
              "\n",
              "      async function convertToInteractive(key) {\n",
              "        const element = document.querySelector('#df-2adaa91e-c47c-4d3b-9e73-4341f26316d9');\n",
              "        const dataTable =\n",
              "          await google.colab.kernel.invokeFunction('convertToInteractive',\n",
              "                                                    [key], {});\n",
              "        if (!dataTable) return;\n",
              "\n",
              "        const docLinkHtml = 'Like what you see? Visit the ' +\n",
              "          '<a target=\"_blank\" href=https://colab.research.google.com/notebooks/data_table.ipynb>data table notebook</a>'\n",
              "          + ' to learn more about interactive tables.';\n",
              "        element.innerHTML = '';\n",
              "        dataTable['output_type'] = 'display_data';\n",
              "        await google.colab.output.renderOutput(dataTable, element);\n",
              "        const docLink = document.createElement('div');\n",
              "        docLink.innerHTML = docLinkHtml;\n",
              "        element.appendChild(docLink);\n",
              "      }\n",
              "    </script>\n",
              "  </div>\n",
              "\n",
              "\n",
              "<div id=\"df-72893766-a1f9-4128-a243-a4a2930b604b\">\n",
              "  <button class=\"colab-df-quickchart\" onclick=\"quickchart('df-72893766-a1f9-4128-a243-a4a2930b604b')\"\n",
              "            title=\"Suggest charts\"\n",
              "            style=\"display:none;\">\n",
              "\n",
              "<svg xmlns=\"http://www.w3.org/2000/svg\" height=\"24px\"viewBox=\"0 0 24 24\"\n",
              "     width=\"24px\">\n",
              "    <g>\n",
              "        <path d=\"M19 3H5c-1.1 0-2 .9-2 2v14c0 1.1.9 2 2 2h14c1.1 0 2-.9 2-2V5c0-1.1-.9-2-2-2zM9 17H7v-7h2v7zm4 0h-2V7h2v10zm4 0h-2v-4h2v4z\"/>\n",
              "    </g>\n",
              "</svg>\n",
              "  </button>\n",
              "\n",
              "<style>\n",
              "  .colab-df-quickchart {\n",
              "      --bg-color: #E8F0FE;\n",
              "      --fill-color: #1967D2;\n",
              "      --hover-bg-color: #E2EBFA;\n",
              "      --hover-fill-color: #174EA6;\n",
              "      --disabled-fill-color: #AAA;\n",
              "      --disabled-bg-color: #DDD;\n",
              "  }\n",
              "\n",
              "  [theme=dark] .colab-df-quickchart {\n",
              "      --bg-color: #3B4455;\n",
              "      --fill-color: #D2E3FC;\n",
              "      --hover-bg-color: #434B5C;\n",
              "      --hover-fill-color: #FFFFFF;\n",
              "      --disabled-bg-color: #3B4455;\n",
              "      --disabled-fill-color: #666;\n",
              "  }\n",
              "\n",
              "  .colab-df-quickchart {\n",
              "    background-color: var(--bg-color);\n",
              "    border: none;\n",
              "    border-radius: 50%;\n",
              "    cursor: pointer;\n",
              "    display: none;\n",
              "    fill: var(--fill-color);\n",
              "    height: 32px;\n",
              "    padding: 0;\n",
              "    width: 32px;\n",
              "  }\n",
              "\n",
              "  .colab-df-quickchart:hover {\n",
              "    background-color: var(--hover-bg-color);\n",
              "    box-shadow: 0 1px 2px rgba(60, 64, 67, 0.3), 0 1px 3px 1px rgba(60, 64, 67, 0.15);\n",
              "    fill: var(--button-hover-fill-color);\n",
              "  }\n",
              "\n",
              "  .colab-df-quickchart-complete:disabled,\n",
              "  .colab-df-quickchart-complete:disabled:hover {\n",
              "    background-color: var(--disabled-bg-color);\n",
              "    fill: var(--disabled-fill-color);\n",
              "    box-shadow: none;\n",
              "  }\n",
              "\n",
              "  .colab-df-spinner {\n",
              "    border: 2px solid var(--fill-color);\n",
              "    border-color: transparent;\n",
              "    border-bottom-color: var(--fill-color);\n",
              "    animation:\n",
              "      spin 1s steps(1) infinite;\n",
              "  }\n",
              "\n",
              "  @keyframes spin {\n",
              "    0% {\n",
              "      border-color: transparent;\n",
              "      border-bottom-color: var(--fill-color);\n",
              "      border-left-color: var(--fill-color);\n",
              "    }\n",
              "    20% {\n",
              "      border-color: transparent;\n",
              "      border-left-color: var(--fill-color);\n",
              "      border-top-color: var(--fill-color);\n",
              "    }\n",
              "    30% {\n",
              "      border-color: transparent;\n",
              "      border-left-color: var(--fill-color);\n",
              "      border-top-color: var(--fill-color);\n",
              "      border-right-color: var(--fill-color);\n",
              "    }\n",
              "    40% {\n",
              "      border-color: transparent;\n",
              "      border-right-color: var(--fill-color);\n",
              "      border-top-color: var(--fill-color);\n",
              "    }\n",
              "    60% {\n",
              "      border-color: transparent;\n",
              "      border-right-color: var(--fill-color);\n",
              "    }\n",
              "    80% {\n",
              "      border-color: transparent;\n",
              "      border-right-color: var(--fill-color);\n",
              "      border-bottom-color: var(--fill-color);\n",
              "    }\n",
              "    90% {\n",
              "      border-color: transparent;\n",
              "      border-bottom-color: var(--fill-color);\n",
              "    }\n",
              "  }\n",
              "</style>\n",
              "\n",
              "  <script>\n",
              "    async function quickchart(key) {\n",
              "      const quickchartButtonEl =\n",
              "        document.querySelector('#' + key + ' button');\n",
              "      quickchartButtonEl.disabled = true;  // To prevent multiple clicks.\n",
              "      quickchartButtonEl.classList.add('colab-df-spinner');\n",
              "      try {\n",
              "        const charts = await google.colab.kernel.invokeFunction(\n",
              "            'suggestCharts', [key], {});\n",
              "      } catch (error) {\n",
              "        console.error('Error during call to suggestCharts:', error);\n",
              "      }\n",
              "      quickchartButtonEl.classList.remove('colab-df-spinner');\n",
              "      quickchartButtonEl.classList.add('colab-df-quickchart-complete');\n",
              "    }\n",
              "    (() => {\n",
              "      let quickchartButtonEl =\n",
              "        document.querySelector('#df-72893766-a1f9-4128-a243-a4a2930b604b button');\n",
              "      quickchartButtonEl.style.display =\n",
              "        google.colab.kernel.accessAllowed ? 'block' : 'none';\n",
              "    })();\n",
              "  </script>\n",
              "</div>\n",
              "    </div>\n",
              "  </div>\n"
            ],
            "application/vnd.google.colaboratory.intrinsic+json": {
              "type": "dataframe",
              "summary": "{\n  \"name\": \"df\",\n  \"rows\": 8,\n  \"fields\": [\n    {\n      \"column\": \"Feature 1\",\n      \"properties\": {\n        \"dtype\": \"number\",\n        \"std\": 133.76971362482755,\n        \"min\": 0.0,\n        \"max\": 400.0,\n        \"num_unique_values\": 8,\n        \"samples\": [\n          26.8075,\n          27.0,\n          400.0\n        ],\n        \"semantic_type\": \"\",\n        \"description\": \"\"\n      }\n    },\n    {\n      \"column\": \"Feature 2\",\n      \"properties\": {\n        \"dtype\": \"number\",\n        \"std\": 138.19839009929035,\n        \"min\": 0.6069513777374126,\n        \"max\": 400.0,\n        \"num_unique_values\": 8,\n        \"samples\": [\n          10.741,\n          10.7,\n          400.0\n        ],\n        \"semantic_type\": \"\",\n        \"description\": \"\"\n      }\n    },\n    {\n      \"column\": \"Feature 3\",\n      \"properties\": {\n        \"dtype\": \"number\",\n        \"std\": 140.45664706865134,\n        \"min\": 1.0,\n        \"max\": 400.0,\n        \"num_unique_values\": 8,\n        \"samples\": [\n          3.0875,\n          3.0,\n          400.0\n        ],\n        \"semantic_type\": \"\",\n        \"description\": \"\"\n      }\n    },\n    {\n      \"column\": \"Feature 4\",\n      \"properties\": {\n        \"dtype\": \"number\",\n        \"std\": 140.39756402259295,\n        \"min\": 1.0,\n        \"max\": 400.0,\n        \"num_unique_values\": 8,\n        \"samples\": [\n          3.4,\n          3.5,\n          400.0\n        ],\n        \"semantic_type\": \"\",\n        \"description\": \"\"\n      }\n    },\n    {\n      \"column\": \"Feature 5\",\n      \"properties\": {\n        \"dtype\": \"number\",\n        \"std\": 140.37527959785763,\n        \"min\": 0.8984775482792571,\n        \"max\": 400.0,\n        \"num_unique_values\": 8,\n        \"samples\": [\n          3.4525,\n          3.5,\n          400.0\n        ],\n        \"semantic_type\": \"\",\n        \"description\": \"\"\n      }\n    },\n    {\n      \"column\": \"Feature 6\",\n      \"properties\": {\n        \"dtype\": \"number\",\n        \"std\": 138.83768591852123,\n        \"min\": 0.5963170964964318,\n        \"max\": 400.0,\n        \"num_unique_values\": 8,\n        \"samples\": [\n          8.598925,\n          8.61,\n          400.0\n        ],\n        \"semantic_type\": \"\",\n        \"description\": \"\"\n      }\n    },\n    {\n      \"column\": \"Feature 7\",\n      \"properties\": {\n        \"dtype\": \"number\",\n        \"std\": 141.2176212184402,\n        \"min\": 0.0,\n        \"max\": 400.0,\n        \"num_unique_values\": 5,\n        \"samples\": [\n          0.5475,\n          1.0,\n          0.4983619785398314\n        ],\n        \"semantic_type\": \"\",\n        \"description\": \"\"\n      }\n    },\n    {\n      \"column\": \"Target\",\n      \"properties\": {\n        \"dtype\": \"number\",\n        \"std\": 141.2005373652785,\n        \"min\": 0.14260933017384092,\n        \"max\": 400.0,\n        \"num_unique_values\": 8,\n        \"samples\": [\n          0.72435,\n          0.73,\n          400.0\n        ],\n        \"semantic_type\": \"\",\n        \"description\": \"\"\n      }\n    }\n  ]\n}"
            }
          },
          "metadata": {},
          "execution_count": 40
        }
      ]
    },
    {
      "cell_type": "markdown",
      "metadata": {
        "id": "ClMqoYlr2kr7"
      },
      "source": [
        "# Multinomial Logistic Regression"
      ]
    },
    {
      "cell_type": "markdown",
      "metadata": {
        "id": "ukvlqDe52xP5"
      },
      "source": [
        "**Task:** Implement your own Multinomial Logistic Regression model. Your model must be able to handle any number of labels!"
      ]
    },
    {
      "cell_type": "code",
      "execution_count": 41,
      "metadata": {
        "id": "5Ir-_hFt286t"
      },
      "outputs": [],
      "source": [
        "# Import necessary libraries\n",
        "import pandas as pd\n",
        "import numpy as np\n",
        "from sklearn.model_selection import train_test_split\n",
        "from sklearn.metrics import accuracy_score\n",
        "from sklearn.preprocessing import StandardScaler\n",
        "import torch\n",
        "\n",
        "class MyMultinomialLogisticRegression:\n",
        "    # Your code goes here!\n",
        "    # This class must have an __init__ method, a loss function, a fit function, and a predict function. You also need to make your code runnable on gpu!\n",
        "    def __init__(self, input_size, num_classes, lr=0.01):\n",
        "        self.lr = lr\n",
        "        self.num_classes = num_classes\n",
        "        self.weights = torch.randn(input_size, num_classes, requires_grad=True, device=device)\n",
        "        self.bias = torch.randn(num_classes, requires_grad=True, device=device)\n",
        "\n",
        "    def fit(self, X, y, epochs=1000):\n",
        "        for epoch in range(epochs):\n",
        "            scores = torch.matmul(X, self.weights) + self.bias\n",
        "            loss = torch.nn.functional.cross_entropy(scores, y.long())\n",
        "            loss.backward()\n",
        "            with torch.no_grad():\n",
        "                self.weights -= self.lr * self.weights.grad\n",
        "                self.bias -= self.lr * self.bias.grad\n",
        "                self.weights.grad.zero_()\n",
        "                self.bias.grad.zero_()\n",
        "\n",
        "    def predict(self, X):\n",
        "        scores = torch.matmul(X, self.weights) + self.bias\n",
        "        probabilities = torch.nn.functional.softmax(scores, dim=1)\n",
        "        return torch.argmax(probabilities, dim=1)\n"
      ]
    },
    {
      "cell_type": "markdown",
      "metadata": {
        "id": "zPQ3Rtay3Y2_"
      },
      "source": [
        "**Task:** Test your model on the given dataset. Do the same as the previous part, but here you might want to first make the Target column quantized into $i$ levels. Change $i$ from 2 to 10."
      ]
    },
    {
      "cell_type": "code",
      "execution_count": 55,
      "metadata": {
        "id": "9aP4QJPq29B3",
        "colab": {
          "base_uri": "https://localhost:8080/"
        },
        "outputId": "76245e93-d56f-4e98-8ba1-93dc22d7b60d"
      },
      "outputs": [
        {
          "output_type": "stream",
          "name": "stdout",
          "text": [
            "Quantization Level: 2, Accuracy: 0.9375\n",
            "Quantization Level: 3, Accuracy: 0.875\n",
            "Quantization Level: 4, Accuracy: 0.5625\n",
            "Quantization Level: 5, Accuracy: 0.4875\n",
            "Quantization Level: 6, Accuracy: 0.4\n",
            "Quantization Level: 7, Accuracy: 0.4\n",
            "Quantization Level: 8, Accuracy: 0.3625\n",
            "Quantization Level: 9, Accuracy: 0.375\n",
            "Quantization Level: 10, Accuracy: 0.2375\n"
          ]
        }
      ],
      "source": [
        "# Your code goes here!\n",
        "\n",
        "# Load dataset\n",
        "df = pd.read_csv('Logistic_question.csv')\n",
        "\n",
        "for i in range(2, 11):  # Loop from 2 to 10 levels of quantization\n",
        "    # Quantize the target into i bins\n",
        "    labels = pd.qcut(df['Target'], q=i, labels=False)\n",
        "    df['QuantizedTarget'] = labels\n",
        "\n",
        "    # print(df['QuantizedTarget'])\n",
        "    # print()\n",
        "    # print(df['Target'])\n",
        "\n",
        "    # Splitting the dataset into features and target variable\n",
        "    X = df.drop(['Target', 'QuantizedTarget'], axis=1).values\n",
        "    y = df['QuantizedTarget'].values\n",
        "\n",
        "    # Split the data into training and test sets\n",
        "    X_train, X_test, y_train, y_test = train_test_split(X, y, test_size=0.2, random_state=42)\n",
        "\n",
        "    # Normalize the data\n",
        "    scaler = StandardScaler().fit(X_train)\n",
        "    X_train_normalized = scaler.transform(X_train)\n",
        "    X_test_normalized = scaler.transform(X_test)\n",
        "\n",
        "    # Convert data to PyTorch tensors\n",
        "    X_train_tensor = torch.tensor(X_train_normalized, dtype=torch.float32, device=device)\n",
        "    y_train_tensor = torch.tensor(y_train, dtype=torch.int64, device=device)  # int64 for multinomial classification\n",
        "    X_test_tensor = torch.tensor(X_test_normalized, dtype=torch.float32, device=device)\n",
        "\n",
        "    # Create and train the model\n",
        "    model = MyMultinomialLogisticRegression(input_size=X_train_tensor.shape[1], num_classes=i)\n",
        "    model.fit(X_train_tensor, y_train_tensor, epochs=1000)\n",
        "\n",
        "    # Predict on the test set\n",
        "    y_pred_tensor = model.predict(X_test_tensor)\n",
        "    y_pred = y_pred_tensor.cpu().numpy()\n",
        "\n",
        "    # Evaluate the model\n",
        "    accuracy = accuracy_score(y_test, y_pred)\n",
        "    print(f\"Quantization Level: {i}, Accuracy: {accuracy}\")\n"
      ]
    },
    {
      "cell_type": "markdown",
      "metadata": {
        "id": "Of2sHl5Z4dXi"
      },
      "source": [
        "**Question:** Report for which $i$ your model performs best. Describe and analyze the results! You could use visualizations or any other method!"
      ]
    },
    {
      "cell_type": "markdown",
      "metadata": {
        "id": "cRLERDAr4wnS"
      },
      "source": [
        "**Your answer:**\n",
        "\n",
        "The model achieves the highest accuracy at the lowest level of quantization (i=2), indicating that, for this particular dataset and model setup, a binary classification framework is the most effective. As the problem becomes more granular with more classes, the model's ability to generalize decreases, likely due to the increased complexity and the limitations of the available features to distinguish between many classes."
      ]
    },
    {
      "cell_type": "code",
      "source": [
        "def plot_class_distribution(df, quantization_levels):\n",
        "    plt.figure(figsize=(12, 7))\n",
        "    for i, q_level in enumerate(quantization_levels, start=1):\n",
        "        plt.subplot(3, 3, i)\n",
        "        labels, bins = pd.qcut(df['Target'], q=q_level, labels=False, retbins=True)\n",
        "        sns.countplot(x=labels)\n",
        "        plt.title(f'Quantization Level: {q_level}')\n",
        "        plt.xlabel('Class')\n",
        "        plt.ylabel('Count')\n",
        "    plt.tight_layout()\n",
        "    plt.show()\n",
        "\n",
        "plot_class_distribution(df, range(2, 11))"
      ],
      "metadata": {
        "colab": {
          "base_uri": "https://localhost:8080/",
          "height": 707
        },
        "id": "quzDBVg_Wa-c",
        "outputId": "8441178f-9dbe-42fc-cfa5-46ed5c874548"
      },
      "execution_count": 59,
      "outputs": [
        {
          "output_type": "display_data",
          "data": {
            "text/plain": [
              "<Figure size 1200x700 with 9 Axes>"
            ],
            "image/png": "[encoded data removed]"
          },
          "metadata": {}
        }
      ]
    },
    {
      "cell_type": "markdown",
      "source": [
        "The populations are nearly the same."
      ],
      "metadata": {
        "id": "1ndlVy1VyaeR"
      }
    },
    {
      "cell_type": "markdown",
      "metadata": {
        "id": "wT43jGKV6CBZ"
      },
      "source": [
        "# Going a little further!"
      ]
    },
    {
      "cell_type": "markdown",
      "metadata": {
        "id": "Vo9uGo0R6GZo"
      },
      "source": [
        "First we download Adult income dataset from Kaggle! In order to do this create an account on this website, and create an API. A file named kaggle.json will be downloaded to your device. Then use the following code:"
      ]
    },
    {
      "cell_type": "code",
      "execution_count": 3,
      "metadata": {
        "id": "o-vrjYBF7u1E",
        "colab": {
          "base_uri": "https://localhost:8080/",
          "height": 69
        },
        "outputId": "d31cde06-97c0-4b2a-bf66-7716410bbd3e"
      },
      "outputs": [
        {
          "output_type": "display_data",
          "data": {
            "text/plain": [
              "<IPython.core.display.HTML object>"
            ],
            "text/html": [
              "\n",
              "     <input type=\"file\" id=\"files-d34d354d-f10b-4557-ba11-df1b68d27471\" name=\"files[]\" multiple disabled\n",
              "        style=\"border:none\" />\n",
              "     <output id=\"result-d34d354d-f10b-4557-ba11-df1b68d27471\">\n",
              "      Upload widget is only available when the cell has been executed in the\n",
              "      current browser session. Please rerun this cell to enable.\n",
              "      </output>\n",
              "      <script>// Copyright 2017 Google LLC\n",
              "//\n",
              "// Licensed under the Apache License, Version 2.0 (the \"License\");\n",
              "// you may not use this file except in compliance with the License.\n",
              "// You may obtain a copy of the License at\n",
              "//\n",
              "//      http://www.apache.org/licenses/LICENSE-2.0\n",
              "//\n",
              "// Unless required by applicable law or agreed to in writing, software\n",
              "// distributed under the License is distributed on an \"AS IS\" BASIS,\n",
              "// WITHOUT WARRANTIES OR CONDITIONS OF ANY KIND, either express or implied.\n",
              "// See the License for the specific language governing permissions and\n",
              "// limitations under the License.\n",
              "\n",
              "/**\n",
              " * @fileoverview Helpers for google.colab Python module.\n",
              " */\n",
              "(function(scope) {\n",
              "function span(text, styleAttributes = {}) {\n",
              "  const element = document.createElement('span');\n",
              "  element.textContent = text;\n",
              "  for (const key of Object.keys(styleAttributes)) {\n",
              "    element.style[key] = styleAttributes[key];\n",
              "  }\n",
              "  return element;\n",
              "}\n",
              "\n",
              "// Max number of bytes which will be uploaded at a time.\n",
              "const MAX_PAYLOAD_SIZE = 100 * 1024;\n",
              "\n",
              "function _uploadFiles(inputId, outputId) {\n",
              "  const steps = uploadFilesStep(inputId, outputId);\n",
              "  const outputElement = document.getElementById(outputId);\n",
              "  // Cache steps on the outputElement to make it available for the next call\n",
              "  // to uploadFilesContinue from Python.\n",
              "  outputElement.steps = steps;\n",
              "\n",
              "  return _uploadFilesContinue(outputId);\n",
              "}\n",
              "\n",
              "// This is roughly an async generator (not supported in the browser yet),\n",
              "// where there are multiple asynchronous steps and the Python side is going\n",
              "// to poll for completion of each step.\n",
              "// This uses a Promise to block the python side on completion of each step,\n",
              "// then passes the result of the previous step as the input to the next step.\n",
              "function _uploadFilesContinue(outputId) {\n",
              "  const outputElement = document.getElementById(outputId);\n",
              "  const steps = outputElement.steps;\n",
              "\n",
              "  const next = steps.next(outputElement.lastPromiseValue);\n",
              "  return Promise.resolve(next.value.promise).then((value) => {\n",
              "    // Cache the last promise value to make it available to the next\n",
              "    // step of the generator.\n",
              "    outputElement.lastPromiseValue = value;\n",
              "    return next.value.response;\n",
              "  });\n",
              "}\n",
              "\n",
              "/**\n",
              " * Generator function which is called between each async step of the upload\n",
              " * process.\n",
              " * @param {string} inputId Element ID of the input file picker element.\n",
              " * @param {string} outputId Element ID of the output display.\n",
              " * @return {!Iterable<!Object>} Iterable of next steps.\n",
              " */\n",
              "function* uploadFilesStep(inputId, outputId) {\n",
              "  const inputElement = document.getElementById(inputId);\n",
              "  inputElement.disabled = false;\n",
              "\n",
              "  const outputElement = document.getElementById(outputId);\n",
              "  outputElement.innerHTML = '';\n",
              "\n",
              "  const pickedPromise = new Promise((resolve) => {\n",
              "    inputElement.addEventListener('change', (e) => {\n",
              "      resolve(e.target.files);\n",
              "    });\n",
              "  });\n",
              "\n",
              "  const cancel = document.createElement('button');\n",
              "  inputElement.parentElement.appendChild(cancel);\n",
              "  cancel.textContent = 'Cancel upload';\n",
              "  const cancelPromise = new Promise((resolve) => {\n",
              "    cancel.onclick = () => {\n",
              "      resolve(null);\n",
              "    };\n",
              "  });\n",
              "\n",
              "  // Wait for the user to pick the files.\n",
              "  const files = yield {\n",
              "    promise: Promise.race([pickedPromise, cancelPromise]),\n",
              "    response: {\n",
              "      action: 'starting',\n",
              "    }\n",
              "  };\n",
              "\n",
              "  cancel.remove();\n",
              "\n",
              "  // Disable the input element since further picks are not allowed.\n",
              "  inputElement.disabled = true;\n",
              "\n",
              "  if (!files) {\n",
              "    return {\n",
              "      response: {\n",
              "        action: 'complete',\n",
              "      }\n",
              "    };\n",
              "  }\n",
              "\n",
              "  for (const file of files) {\n",
              "    const li = document.createElement('li');\n",
              "    li.append(span(file.name, {fontWeight: 'bold'}));\n",
              "    li.append(span(\n",
              "        `(${file.type || 'n/a'}) - ${file.size} bytes, ` +\n",
              "        `last modified: ${\n",
              "            file.lastModifiedDate ? file.lastModifiedDate.toLocaleDateString() :\n",
              "                                    'n/a'} - `));\n",
              "    const percent = span('0% done');\n",
              "    li.appendChild(percent);\n",
              "\n",
              "    outputElement.appendChild(li);\n",
              "\n",
              "    const fileDataPromise = new Promise((resolve) => {\n",
              "      const reader = new FileReader();\n",
              "      reader.onload = (e) => {\n",
              "        resolve(e.target.result);\n",
              "      };\n",
              "      reader.readAsArrayBuffer(file);\n",
              "    });\n",
              "    // Wait for the data to be ready.\n",
              "    let fileData = yield {\n",
              "      promise: fileDataPromise,\n",
              "      response: {\n",
              "        action: 'continue',\n",
              "      }\n",
              "    };\n",
              "\n",
              "    // Use a chunked sending to avoid message size limits. See b/62115660.\n",
              "    let position = 0;\n",
              "    do {\n",
              "      const length = Math.min(fileData.byteLength - position, MAX_PAYLOAD_SIZE);\n",
              "      const chunk = new Uint8Array(fileData, position, length);\n",
              "      position += length;\n",
              "\n",
              "      const base64 = btoa(String.fromCharCode.apply(null, chunk));\n",
              "      yield {\n",
              "        response: {\n",
              "          action: 'append',\n",
              "          file: file.name,\n",
              "          data: base64,\n",
              "        },\n",
              "      };\n",
              "\n",
              "      let percentDone = fileData.byteLength === 0 ?\n",
              "          100 :\n",
              "          Math.round((position / fileData.byteLength) * 100);\n",
              "      percent.textContent = `${percentDone}% done`;\n",
              "\n",
              "    } while (position < fileData.byteLength);\n",
              "  }\n",
              "\n",
              "  // All done.\n",
              "  yield {\n",
              "    response: {\n",
              "      action: 'complete',\n",
              "    }\n",
              "  };\n",
              "}\n",
              "\n",
              "scope.google = scope.google || {};\n",
              "scope.google.colab = scope.google.colab || {};\n",
              "scope.google.colab._files = {\n",
              "  _uploadFiles,\n",
              "  _uploadFilesContinue,\n",
              "};\n",
              "})(self);\n",
              "</script> "
            ]
          },
          "metadata": {}
        },
        {
          "output_type": "stream",
          "name": "stdout",
          "text": [
            "Saving kaggle.json to kaggle.json\n"
          ]
        }
      ],
      "source": [
        "from google.colab import files\n",
        "files.upload()  # Use this to select the kaggle.json file from your computer\n",
        "!mkdir -p ~/.kaggle\n",
        "!cp kaggle.json ~/.kaggle/\n",
        "!chmod 600 ~/.kaggle/kaggle.json"
      ]
    },
    {
      "cell_type": "markdown",
      "metadata": {
        "id": "5i6u6_1v8ftX"
      },
      "source": [
        "Then use this code to automatically download the dataset into Colab."
      ]
    },
    {
      "cell_type": "code",
      "execution_count": 43,
      "metadata": {
        "id": "XjyVaVKF29Hx",
        "colab": {
          "base_uri": "https://localhost:8080/"
        },
        "outputId": "ad565b6f-341c-400a-993b-1d62d0da4450"
      },
      "outputs": [
        {
          "output_type": "stream",
          "name": "stdout",
          "text": [
            "adult-income-dataset.zip: Skipping, found more recently modified local copy (use --force to force download)\n",
            "Archive:  /content/adult-income-dataset.zip\n",
            "replace adult.csv? [y]es, [n]o, [A]ll, [N]one, [r]ename: y\n",
            "  inflating: adult.csv               \n"
          ]
        }
      ],
      "source": [
        "!kaggle datasets download -d wenruliu/adult-income-dataset\n",
        "!unzip /content/adult-income-dataset.zip"
      ]
    },
    {
      "cell_type": "markdown",
      "metadata": {
        "id": "EXQnbZwt8rJK"
      },
      "source": [
        "**Task:** Determine the number of null entries!"
      ]
    },
    {
      "cell_type": "code",
      "execution_count": 44,
      "metadata": {
        "id": "JtuEx6QW29c1",
        "colab": {
          "base_uri": "https://localhost:8080/"
        },
        "outputId": "39417aec-0a91-49ef-d5d7-599ecc76194d"
      },
      "outputs": [
        {
          "output_type": "stream",
          "name": "stdout",
          "text": [
            "   age         workclass  fnlwgt     education  educational-num  \\\n",
            "0   25           Private  226802          11th                7   \n",
            "1   38           Private   89814       HS-grad                9   \n",
            "2   28         Local-gov  336951    Assoc-acdm               12   \n",
            "3   44           Private  160323  Some-college               10   \n",
            "4   18                 ?  103497  Some-college               10   \n",
            "5   34           Private  198693          10th                6   \n",
            "6   29                 ?  227026       HS-grad                9   \n",
            "7   63  Self-emp-not-inc  104626   Prof-school               15   \n",
            "8   24           Private  369667  Some-college               10   \n",
            "9   55           Private  104996       7th-8th                4   \n",
            "\n",
            "       marital-status         occupation   relationship   race  gender  \\\n",
            "0       Never-married  Machine-op-inspct      Own-child  Black    Male   \n",
            "1  Married-civ-spouse    Farming-fishing        Husband  White    Male   \n",
            "2  Married-civ-spouse    Protective-serv        Husband  White    Male   \n",
            "3  Married-civ-spouse  Machine-op-inspct        Husband  Black    Male   \n",
            "4       Never-married                  ?      Own-child  White  Female   \n",
            "5       Never-married      Other-service  Not-in-family  White    Male   \n",
            "6       Never-married                  ?      Unmarried  Black    Male   \n",
            "7  Married-civ-spouse     Prof-specialty        Husband  White    Male   \n",
            "8       Never-married      Other-service      Unmarried  White  Female   \n",
            "9  Married-civ-spouse       Craft-repair        Husband  White    Male   \n",
            "\n",
            "   capital-gain  capital-loss  hours-per-week native-country income  \n",
            "0             0             0              40  United-States  <=50K  \n",
            "1             0             0              50  United-States  <=50K  \n",
            "2             0             0              40  United-States   >50K  \n",
            "3          7688             0              40  United-States   >50K  \n",
            "4             0             0              30  United-States  <=50K  \n",
            "5             0             0              30  United-States  <=50K  \n",
            "6             0             0              40  United-States  <=50K  \n",
            "7          3103             0              32  United-States   >50K  \n",
            "8             0             0              40  United-States  <=50K  \n",
            "9             0             0              10  United-States  <=50K  \n",
            "age                0\n",
            "workclass          0\n",
            "fnlwgt             0\n",
            "education          0\n",
            "educational-num    0\n",
            "marital-status     0\n",
            "occupation         0\n",
            "relationship       0\n",
            "race               0\n",
            "gender             0\n",
            "capital-gain       0\n",
            "capital-loss       0\n",
            "hours-per-week     0\n",
            "native-country     0\n",
            "income             0\n",
            "dtype: int64\n",
            "\n",
            "age                   0\n",
            "workclass          2799\n",
            "fnlwgt                0\n",
            "education             0\n",
            "educational-num       0\n",
            "marital-status        0\n",
            "occupation         2809\n",
            "relationship          0\n",
            "race                  0\n",
            "gender                0\n",
            "capital-gain          0\n",
            "capital-loss          0\n",
            "hours-per-week        0\n",
            "native-country      857\n",
            "income                0\n",
            "dtype: int64\n",
            "\n",
            "Total null entries in the dataset: 0\n",
            "\n",
            "Total ? entries in the dataset: 6465\n"
          ]
        }
      ],
      "source": [
        "# Your code goes here!\n",
        "\n",
        "import pandas as pd\n",
        "\n",
        "# Load the dataset\n",
        "df = pd.read_csv('adult.csv')\n",
        "\n",
        "print(df.head(10))\n",
        "\n",
        "# Determine the number of null entries in each column\n",
        "null_entries = df.isnull().sum()\n",
        "\n",
        "question_mark_entries = (df == '?').sum()\n",
        "\n",
        "# Print the number of null entries for each column\n",
        "print(null_entries)\n",
        "print()\n",
        "print(question_mark_entries)\n",
        "\n",
        "# If you want to know the total number of null entries across the entire dataset\n",
        "total_null_entries = df.isnull().sum().sum()\n",
        "total_question_mark_entries = (df == '?').sum().sum()\n",
        "print(f\"\\nTotal null entries in the dataset: {total_null_entries}\")\n",
        "print(f\"\\nTotal ? entries in the dataset: {total_question_mark_entries}\")"
      ]
    },
    {
      "cell_type": "markdown",
      "metadata": {
        "id": "JpEcBdTUAYVN"
      },
      "source": [
        "**Question:** In many widely used datasets there are a lot of null entries. Propose 5 methods by which, one could deal with this problem. Briefly explain how do you decide which one to use in this problem."
      ]
    },
    {
      "cell_type": "markdown",
      "metadata": {
        "id": "l1u1pBHuAsSg"
      },
      "source": [
        "**Your answer:**\n",
        "\n",
        "- Deletion of Rows or Columns:\n",
        "\n",
        "Method: Remove rows with missing values or entire columns if a substantial portion of the data is missing.\n",
        "\n",
        "When to Use: This method is appropriate when the dataset is large enough to retain its integrity even after removing missing data. It's also suitable when the proportion of missing data is small or if the missing data is not random (i.e., if there's a pattern to the missing data that makes certain rows or columns less reliable).\n",
        "\n",
        "- Imputation with Statistics (Mean, Median, Mode):\n",
        "\n",
        "Method: Replace missing values with a central tendency measure of the respective column (numerical data: mean or median; categorical data: mode).\n",
        "\n",
        "When to Use: Effective for numerical datasets with random missing values and without significant outliers. It is quick and improves dataset usability without deleting any data. However, it can lead to biased estimates if the missing data is not random.\n",
        "\n",
        "- Predictive Imputation:\n",
        "\n",
        "Method: Use other complete variables in the dataset to build a regression model to predict the missing values.\n",
        "\n",
        "When to Use: Suitable when the missing values are systematically related to other variables. It’s more precise than simple statistical imputation and useful when high data integrity is necessary. This method assumes that the relationships in the data can predict missing values accurately.\n",
        "\n",
        "- K-Nearest Neighbors (KNN) Imputation:\n",
        "\n",
        "Method: Replace missing data by finding the ‘k’ closest neighbors to the observation with missing data and then impute using the mean or median of these neighbors.\n",
        "\n",
        "When to Use: Best used when data points with similar characteristics also have similar target values. It’s particularly good for datasets where patterns or groups are evident. The choice of 'k' and the distance metric significantly influence the imputation quality.\n",
        "\n",
        "- Using Algorithms that Support Missing Values:\n",
        "\n",
        "Method: Utilize machine learning algorithms that can handle missing values natively, such as XGBoost or LightGBM.\n",
        "\n",
        "When to Use: This approach is useful when predictive accuracy is more important than interpretability of the missing data handling process. It saves the preprocessing step and can handle various patterns of missing data effectively.\n"
      ]
    },
    {
      "cell_type": "markdown",
      "metadata": {
        "id": "eHhH-hkpAxFf"
      },
      "source": [
        "**Task:** Handle null entries using your best method."
      ]
    },
    {
      "cell_type": "markdown",
      "source": [
        "I used Deletion of Rows or Columns since as shown below it only reduces a small amount of null data"
      ],
      "metadata": {
        "id": "BQ6zmsi_yFrx"
      }
    },
    {
      "cell_type": "code",
      "execution_count": 45,
      "metadata": {
        "id": "5fVwWcjK29fk",
        "colab": {
          "base_uri": "https://localhost:8080/"
        },
        "outputId": "d7cb1215-0b90-4172-c214-6a6939ff1186"
      },
      "outputs": [
        {
          "output_type": "stream",
          "name": "stdout",
          "text": [
            "(48842, 15)\n",
            "(45222, 15)\n"
          ]
        }
      ],
      "source": [
        "# Your code goes here!\n",
        "\n",
        "print(df.shape)\n",
        "\n",
        "df.replace(to_replace=\"?\", value=np.nan, inplace=True)\n",
        "df.dropna(inplace=True)\n",
        "\n",
        "print(df.shape)"
      ]
    },
    {
      "cell_type": "markdown",
      "metadata": {
        "id": "43k5cTorCJaV"
      },
      "source": [
        "**Task:** Convert categorical features to numerical values. Split the dataset with 80-20 portion. Normalize all the data using X_train. Use the built-in Logistic Regression function and GridSearchCV to train your model, and report the parameters, train and test accuracy of the best model."
      ]
    },
    {
      "cell_type": "code",
      "execution_count": 46,
      "metadata": {
        "id": "Agj18Lcd-vyZ",
        "colab": {
          "base_uri": "https://localhost:8080/"
        },
        "outputId": "771a51e7-5ee6-49ef-8619-9516f8d366ff"
      },
      "outputs": [
        {
          "output_type": "stream",
          "name": "stdout",
          "text": [
            "   age  workclass  fnlwgt  education  educational-num  marital-status  \\\n",
            "0   25          2  226802          1                7               4   \n",
            "1   38          2   89814         11                9               2   \n",
            "2   28          1  336951          7               12               2   \n",
            "3   44          2  160323         15               10               2   \n",
            "5   34          2  198693          0                6               4   \n",
            "\n",
            "   occupation  relationship  race  gender  capital-gain  capital-loss  \\\n",
            "0           6             3     2       1             0             0   \n",
            "1           4             0     4       1             0             0   \n",
            "2          10             0     4       1             0             0   \n",
            "3           6             0     2       1          7688             0   \n",
            "5           7             1     4       1             0             0   \n",
            "\n",
            "   hours-per-week  native-country  income  \n",
            "0              40              38       0  \n",
            "1              50              38       0  \n",
            "2              40              38       1  \n",
            "3              40              38       1  \n",
            "5              30              38       0  \n"
          ]
        }
      ],
      "source": [
        "from sklearn.preprocessing import LabelEncoder\n",
        "\n",
        "# Initialize Label Encoder\n",
        "label_encoder = LabelEncoder()\n",
        "\n",
        "# Columns to encode\n",
        "categorical_cols = ['workclass', 'education', 'marital-status', 'occupation', 'relationship', 'race', 'gender', 'native-country', 'income']\n",
        "\n",
        "# Apply Label Encoding\n",
        "for col in categorical_cols:\n",
        "    df[col] = label_encoder.fit_transform(df[col])\n",
        "\n",
        "# Display the DataFrame\n",
        "print(df.head(5))"
      ]
    },
    {
      "cell_type": "code",
      "source": [
        "import pandas as pd\n",
        "from sklearn.model_selection import train_test_split, GridSearchCV\n",
        "from sklearn.preprocessing import StandardScaler\n",
        "from sklearn.linear_model import LogisticRegression\n",
        "from sklearn.metrics import accuracy_score\n",
        "\n",
        "# Assuming 'df' is your DataFrame after encoding\n",
        "# Selecting features and target\n",
        "X = df.drop('income', axis=1)  # Assuming 'income' is the target variable\n",
        "y = df['income']\n",
        "\n",
        "# Splitting the dataset into train and test sets (80-20)\n",
        "X_train, X_test, y_train, y_test = train_test_split(X, y, test_size=0.20, random_state=42)\n",
        "\n",
        "# Initialize the StandardScaler\n",
        "scaler = StandardScaler()\n",
        "\n",
        "# Fit on training data only\n",
        "X_train = scaler.fit_transform(X_train)\n",
        "\n",
        "# Apply same transformation to test data\n",
        "X_test = scaler.transform(X_test)"
      ],
      "metadata": {
        "id": "hltE9yUgjLu8"
      },
      "execution_count": 47,
      "outputs": []
    },
    {
      "cell_type": "code",
      "source": [
        "# Setting up the logistic regression model and parameters for GridSearchCV\n",
        "model = LogisticRegression()\n",
        "param_grid = {\n",
        "    'C': [0.01, 0.1, 1, 10, 100],  # Regularization strength\n",
        "    'solver': ['newton-cg', 'lbfgs', 'liblinear']  # Solvers\n",
        "}\n",
        "\n",
        "# GridSearchCV setup\n",
        "grid_search = GridSearchCV(estimator=model, param_grid=param_grid, cv=5, scoring='accuracy')\n",
        "\n",
        "# Fit GridSearchCV\n",
        "grid_search.fit(X_train, y_train)\n",
        "\n",
        "# Best parameters and model\n",
        "best_params = grid_search.best_params_\n",
        "best_model = grid_search.best_estimator_\n",
        "\n",
        "# Predictions\n",
        "y_train_pred = best_model.predict(X_train)\n",
        "y_test_pred = best_model.predict(X_test)\n",
        "\n",
        "# Calculating accuracies\n",
        "train_accuracy = accuracy_score(y_train, y_train_pred)\n",
        "test_accuracy = accuracy_score(y_test, y_test_pred)\n",
        "\n",
        "# Print the outcomes\n",
        "print(\"Best Model Parameters:\", best_params)\n",
        "print(\"Training Accuracy:\", train_accuracy)\n",
        "print(\"Test Accuracy:\", test_accuracy)\n"
      ],
      "metadata": {
        "colab": {
          "base_uri": "https://localhost:8080/"
        },
        "id": "DXeLQgz4in4n",
        "outputId": "66c023e2-4e73-44f1-e678-2cced3ad2dd6"
      },
      "execution_count": 48,
      "outputs": [
        {
          "output_type": "stream",
          "name": "stdout",
          "text": [
            "Best Model Parameters: {'C': 0.1, 'solver': 'newton-cg'}\n",
            "Training Accuracy: 0.820631893191807\n",
            "Test Accuracy: 0.8208955223880597\n"
          ]
        }
      ]
    },
    {
      "cell_type": "markdown",
      "metadata": {
        "id": "6Lzr2lqXDQ1T"
      },
      "source": [
        "**Task:** To try a different route, split X_train into $i$ parts, and train $i$ separate models on these parts. Now propose and implement 3 different *ensemble methods* to derive the global models' prediction for X_test using the results(not necessarily predictions!) of the $i$ models. Firstly, set $i=10$ to find the method with the best test accuracy(the answer is not general!). You must Use your own Logistic Regression model.(You might want to modify it a little bit for this part!)"
      ]
    },
    {
      "cell_type": "code",
      "execution_count": 40,
      "metadata": {
        "id": "K9D1jlstF9nF",
        "colab": {
          "base_uri": "https://localhost:8080/"
        },
        "outputId": "c1120c8e-7e2d-426a-e9e7-7b056c8da98d"
      },
      "outputs": [
        {
          "output_type": "stream",
          "name": "stdout",
          "text": [
            "Majority Vote Ensemble:\n",
            "Test Accuracy: 0.8148148148148148\n",
            "Average Probability Ensemble:\n",
            "Test Accuracy: 0.8144831398562742\n",
            "Weighted Average Ensemble:\n",
            "Test Accuracy: 0.8134881149806523\n"
          ]
        }
      ],
      "source": [
        "# Dividing the training set into ten segments\n",
        "number_of_splits = 10\n",
        "partitions_X_train = np.array_split(X_train, number_of_splits)\n",
        "partitions_y_train = [np.array(part) for part in np.array_split(y_train, number_of_splits)]\n",
        "\n",
        "# Constructing the Logistic Regression class\n",
        "class LogisticModel(nn.Module):\n",
        "    def __init__(self, dimensions):\n",
        "        super(LogisticModel, self).__init__()\n",
        "        self.linear_layer = nn.Linear(dimensions, 1)\n",
        "        self.activation_function = nn.Sigmoid()\n",
        "\n",
        "    def forward(self, input_data):\n",
        "        linear_output = self.linear_layer(input_data)\n",
        "        activated_output = self.activation_function(linear_output)\n",
        "        return activated_output\n",
        "\n",
        "# Initiating and training multiple Logistic Regression instances\n",
        "ensemble_models = []\n",
        "for index in range(number_of_splits):\n",
        "    log_reg_model = LogisticModel(X_train.shape[1])\n",
        "    loss_function = nn.BCELoss()\n",
        "    sgd_optimizer = optim.SGD(log_reg_model.parameters(), lr=0.01)\n",
        "\n",
        "    training_tensor_X = torch.tensor(partitions_X_train[index], dtype=torch.float32)\n",
        "    training_tensor_y = torch.tensor(partitions_y_train[index], dtype=torch.float32)\n",
        "\n",
        "    epochs = 1000\n",
        "    for epoch in range(epochs):\n",
        "        sgd_optimizer.zero_grad()\n",
        "        model_outputs = log_reg_model(training_tensor_X)\n",
        "        error = loss_function(model_outputs.squeeze(), training_tensor_y)\n",
        "        error.backward()\n",
        "        sgd_optimizer.step()\n",
        "\n",
        "    ensemble_models.append(log_reg_model)\n",
        "\n",
        "# Ensemble methods definitions\n",
        "def vote_ensemble(models, X_test_data):\n",
        "    test_tensor = torch.tensor(X_test_data, dtype=torch.float32)\n",
        "    model_outputs = []\n",
        "    for each_model in models:\n",
        "        each_model.eval()\n",
        "        with torch.no_grad():\n",
        "            output = each_model(test_tensor)\n",
        "            predictions = (output.squeeze() > 0.5).float()\n",
        "            model_outputs.append(predictions)\n",
        "\n",
        "    final_vote = torch.mode(torch.stack(model_outputs), dim=0).values\n",
        "    return final_vote\n",
        "\n",
        "def average_ensemble(models, X_test_data):\n",
        "    test_tensor = torch.tensor(X_test_data, dtype=torch.float32)\n",
        "    model_outputs = []\n",
        "    for each_model in models:\n",
        "        each_model.eval()\n",
        "        with torch.no_grad():\n",
        "            output = each_model(test_tensor)\n",
        "            model_outputs.append(output.squeeze())\n",
        "\n",
        "    mean_probabilities = torch.mean(torch.stack(model_outputs), dim=0)\n",
        "    final_predictions = (mean_probabilities > 0.5).float()\n",
        "    return final_predictions\n",
        "\n",
        "def weighted_average_ensemble(models, X_test_data):\n",
        "    test_tensor = torch.tensor(X_test_data, dtype=torch.float32)\n",
        "    model_outputs = []\n",
        "    weights = [1 / (i + 1) for i in range(len(models))]\n",
        "    weight_tensor = torch.tensor(weights, dtype=torch.float32)\n",
        "    for each_model in models:\n",
        "        each_model.eval()\n",
        "        with torch.no_grad():\n",
        "            output = each_model(test_tensor)\n",
        "            model_outputs.append(output.squeeze())\n",
        "\n",
        "    weighted_sum = torch.sum(torch.stack(model_outputs) * weight_tensor.view(-1, 1), dim=0) / torch.sum(weight_tensor)\n",
        "    final_predictions = (weighted_sum > 0.5).float()\n",
        "    return final_predictions\n",
        "\n",
        "# Evaluating the ensemble models\n",
        "y_test_tensor = torch.tensor(np.array(y_test), dtype=torch.float32)\n",
        "\n",
        "print(\"Majority Vote Ensemble:\")\n",
        "majority_accuracy = (vote_ensemble(ensemble_models, X_test) == y_test_tensor).sum().item() / y_test_tensor.size(0)\n",
        "print(f\"Test Accuracy: {majority_accuracy}\")\n",
        "\n",
        "print(\"Average Probability Ensemble:\")\n",
        "average_accuracy = (average_ensemble(ensemble_models, X_test) == y_test_tensor).sum().item() / y_test_tensor.size(0)\n",
        "print(f\"Test Accuracy: {average_accuracy}\")\n",
        "\n",
        "print(\"Weighted Average Ensemble:\")\n",
        "weighted_accuracy = (weighted_average_ensemble(ensemble_models, X_test) == y_test_tensor).sum().item() / y_test_tensor.size(0)\n",
        "print(f\"Test Accuracy: {weighted_accuracy}\")\n"
      ]
    },
    {
      "cell_type": "markdown",
      "metadata": {
        "id": "9QS9HYJ5FW1T"
      },
      "source": [
        "**Question:** Explain your proposed methods and the reason you decided to use them!"
      ]
    },
    {
      "cell_type": "markdown",
      "metadata": {
        "id": "6hCBQuAeF46a"
      },
      "source": [
        "**Your answer:**\n",
        "\n",
        "- **Majority Vote Ensemble:**\n",
        "\n",
        "**Approach:** This method aggregates each model's predictions, choosing the class with the majority of votes as the final decision.\n",
        "\n",
        "**Justification:** This straightforward technique minimizes prediction errors by capitalizing on the consensus among various models, making it highly effective for robust classification tasks.\n",
        "\n",
        "- **Average Probability Ensemble:**\n",
        "\n",
        "**Approach:** Calculates the average probabilities from all models for each class, selecting the class with the highest average as the prediction.\n",
        "\n",
        "**Justification:** By averaging model outputs, this method smooths out extremes in individual model predictions, providing a balanced outcome that reflects the collective confidence of the models.\n",
        "\n",
        "- **Weighted Average Ensemble:**\n",
        "\n",
        "**Approach:** Similar to the average probability approach but incorporates weights for each model based on their performance, enhancing the influence of more accurate models.\n",
        "\n",
        "**Justification:** This method optimizes the ensemble’s effectiveness by emphasizing reliable models, leading to a more accurate and dependable ensemble prediction.\n",
        "\n",
        "\n",
        "\n",
        "\n",
        "- The majority vote gave the best result here."
      ]
    },
    {
      "cell_type": "markdown",
      "metadata": {
        "id": "jjSREvg4FTHf"
      },
      "source": [
        "**Task:** Now, for your best method, change $i$ from 2 to 100 and report $i$, train and test accuracy of the best model. Also, plot test and train accuracy for $2\\leq i\\leq100$."
      ]
    },
    {
      "cell_type": "code",
      "execution_count": 61,
      "metadata": {
        "id": "tfKS-Jq0-v4P",
        "colab": {
          "base_uri": "https://localhost:8080/",
          "height": 615
        },
        "outputId": "337ed3bd-b6a1-4793-ac4b-b193091f28d8"
      },
      "outputs": [
        {
          "output_type": "stream",
          "name": "stdout",
          "text": [
            "Optimal model achieved with 80 partitions\n",
            "Train Accuracy: 0.740581032147497\n",
            "Test Accuracy: 0.7458264234383637\n"
          ]
        },
        {
          "output_type": "display_data",
          "data": {
            "text/plain": [
              "<Figure size 1200x600 with 1 Axes>"
            ],
            "image/png": "[encoded data removed]"
          },
          "metadata": {}
        }
      ],
      "source": [
        "import matplotlib.pyplot as plt\n",
        "\n",
        "class LogisticModel(nn.Module):\n",
        "    def __init__(self, dimension):\n",
        "        super(LogisticModel, self).__init__()\n",
        "        self.linear_module = nn.Linear(dimension, 1)\n",
        "        self.activation = nn.Sigmoid()\n",
        "\n",
        "    def forward(self, input_tensor):\n",
        "        linear_output = self.linear_module(input_tensor)\n",
        "        activated_output = self.activation(linear_output)\n",
        "        return activated_output\n",
        "\n",
        "# Assess models over varying numbers of data partitions\n",
        "training_accuracy_list = []\n",
        "testing_accuracy_list = []\n",
        "optimal_partition_count = 0\n",
        "highest_train_accuracy = 0\n",
        "highest_test_accuracy = 0\n",
        "\n",
        "for partition_count in range(2, 101):\n",
        "    # Divide the training data into partition_count segments\n",
        "    partitioned_X_train = np.array_split(X_train, partition_count)\n",
        "    partitioned_y_train = np.array_split(np.array(y_train), partition_count)\n",
        "\n",
        "    # Initialize and train partition_count logistic regression models\n",
        "    trained_models = []\n",
        "    for partition_index in range(partition_count):\n",
        "        log_reg_model = LogisticModel(X_train.shape[1])\n",
        "        loss_criterion = nn.BCELoss()\n",
        "        training_optimizer = optim.SGD(log_reg_model.parameters(), lr=0.01)\n",
        "\n",
        "        current_X_train = torch.tensor(partitioned_X_train[partition_index], dtype=torch.float32)\n",
        "        current_y_train = torch.tensor(partitioned_y_train[partition_index], dtype=torch.float32)\n",
        "\n",
        "        epochs = 10\n",
        "        for epoch in range(epochs):\n",
        "            training_optimizer.zero_grad()\n",
        "            model_output = log_reg_model(current_X_train)\n",
        "            error = loss_criterion(model_output.squeeze(), current_y_train)\n",
        "            error.backward()\n",
        "            training_optimizer.step()\n",
        "\n",
        "        trained_models.append(log_reg_model)\n",
        "\n",
        "    # Evaluate using Majority Vote Ensemble for both training and testing data\n",
        "    train_data_tensor = torch.tensor(np.array(y_train), dtype=torch.float32)\n",
        "    test_data_tensor = torch.tensor(np.array(y_test), dtype=torch.float32)\n",
        "    train_predictions = vote_ensemble(trained_models, X_train)\n",
        "    test_predictions = vote_ensemble(trained_models, X_test)\n",
        "    train_accuracy = (train_predictions == train_data_tensor).sum().item() / len(y_train)\n",
        "    test_accuracy = (test_predictions == test_data_tensor).sum().item() / len(y_test)\n",
        "\n",
        "    training_accuracy_list.append(train_accuracy)\n",
        "    testing_accuracy_list.append(test_accuracy)\n",
        "\n",
        "    # Update best model metrics if current model is better\n",
        "    if test_accuracy > highest_test_accuracy:\n",
        "        optimal_partition_count = partition_count\n",
        "        highest_train_accuracy = train_accuracy\n",
        "        highest_test_accuracy = test_accuracy\n",
        "\n",
        "print(f\"Optimal model achieved with {optimal_partition_count} partitions\")\n",
        "print(f\"Train Accuracy: {highest_train_accuracy}\")\n",
        "print(f\"Test Accuracy: {highest_test_accuracy}\")\n",
        "\n",
        "# Visualize the relationship between partition count and accuracy\n",
        "plt.figure(figsize=(12, 6))\n",
        "plt.plot(range(2, 101), training_accuracy_list, label='Train Accuracy')\n",
        "plt.plot(range(2, 101), testing_accuracy_list, label='Test Accuracy')\n",
        "plt.xlabel('Number of Partitions (i)')\n",
        "plt.ylabel('Accuracy')\n",
        "plt.title('Accuracy Trends Across Different Partition Counts')\n",
        "plt.legend()\n",
        "plt.show()\n"
      ]
    },
    {
      "cell_type": "markdown",
      "metadata": {
        "id": "BWV0YUgRGg1p"
      },
      "source": [
        "**Question:** Analyze the results."
      ]
    },
    {
      "cell_type": "markdown",
      "metadata": {
        "id": "D4PJiEz5H_Ys"
      },
      "source": [
        "**Your Answer:**\n",
        "\n",
        "Summary of Model Training Results of Logistic Regression models with varying numbers of parts and using the Majority Vote Ensemble method:\n",
        "\n",
        "The highest performing model was obtained with i = 80 partitions, achieving training and testing accuracies of approximately 74.06% and 74.58%, respectively.\n",
        "Both training and testing accuracies showed a general upward trend as the number of partitions increased from 2 to 100.\n"
      ]
    }
  ],
  "metadata": {
    "colab": {
      "provenance": [],
      "include_colab_link": true
    },
    "kernelspec": {
      "display_name": "Python 3",
      "name": "python3"
    },
    "language_info": {
      "name": "python"
    }
  },
  "nbformat": 4,
  "nbformat_minor": 0
}